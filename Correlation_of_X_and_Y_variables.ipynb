{
  "nbformat": 4,
  "nbformat_minor": 0,
  "metadata": {
    "colab": {
      "provenance": []
    },
    "kernelspec": {
      "name": "python3",
      "display_name": "Python 3"
    },
    "language_info": {
      "name": "python"
    }
  },
  "cells": [
    {
      "cell_type": "code",
      "source": [
        "import random\n",
        "import numpy as np\n",
        "import pandas as pd\n",
        "import tensorflow as tf\n",
        "import matplotlib.pyplot as plt\n",
        "import seaborn as sns\n",
        "from sklearn.preprocessing import StandardScaler\n",
        "from scipy.stats import pointbiserialr, chi2_contingency\n",
        "from sklearn.model_selection import train_test_split\n",
        "from sklearn.model_selection import (\n",
        "    StratifiedKFold, GridSearchCV, train_test_split, RandomizedSearchCV,\n",
        "    cross_val_predict, cross_validate\n",
        ")\n",
        "from sklearn.tree import DecisionTreeClassifier\n",
        "from sklearn.preprocessing import OneHotEncoder, OrdinalEncoder\n",
        "from sklearn.compose import ColumnTransformer\n",
        "from sklearn.pipeline import Pipeline"
      ],
      "metadata": {
        "id": "UUOBrcl0bL66"
      },
      "execution_count": 2,
      "outputs": []
    },
    {
      "cell_type": "markdown",
      "source": [
        "1. Finding correlation between each type of predictor variables to target variables."
      ],
      "metadata": {
        "id": "CJeCp9_-bPN9"
      }
    },
    {
      "cell_type": "code",
      "source": [
        "# Set Seeds for Reproducibility\n",
        "random.seed(1244)\n",
        "np.random.seed(1244)\n",
        "tf.random.set_seed(1244)\n",
        "\n",
        "print(\"Loading and cleaning data...\")\n",
        "\n",
        "# Step 1: Load data\n",
        "client_df = pd.read_csv('/content/drive/MyDrive/IT1244 Project Sarah/Dataset it1244/client.csv')\n",
        "invoice_df = pd.read_csv('/content/drive/MyDrive/IT1244 Project Sarah/Dataset it1244/invoice.csv')\n",
        "\n",
        "# Step 2: Convert 'date' columns to datetime format\n",
        "client_df['date'] = pd.to_datetime(client_df['date'], format='%d/%m/%Y', errors='coerce')\n",
        "invoice_df['date'] = pd.to_datetime(invoice_df['date'], format='%d/%m/%Y', errors='coerce')\n",
        "\n",
        "# Step 3: Basic data exploration\n",
        "print(\"Client DataFrame Info:\")\n",
        "print(client_df.info())\n",
        "print(\"\\nInvoice DataFrame Info:\")\n",
        "print(invoice_df.info())\n",
        "\n",
        "print(\"\\nClient DataFrame Head:\")\n",
        "print(client_df.head())\n",
        "print(\"\\nInvoice DataFrame Head:\")\n",
        "print(invoice_df.head())\n",
        "\n",
        "# Step 4: Handle missing values\n",
        "client_df = client_df.fillna(method='ffill')  # Forward fill for client data\n",
        "invoice_df = invoice_df.fillna(0)  # Replace missing values with 0 for invoice data\n",
        "\n",
        "# Step 5: Merge data on common key (if available, e.g., 'client_id')\n",
        "# Assuming 'client_id' is the common key in both datasets\n",
        "merged_df = pd.merge(client_df, invoice_df, on='id', how='inner')\n",
        "\n",
        "print(\"\\nMerged DataFrame Info:\")\n",
        "print(merged_df.info())\n",
        "print(\"\\nMerged DataFrame Head:\")\n",
        "print(merged_df.head())\n",
        "\n"
      ],
      "metadata": {
        "colab": {
          "base_uri": "https://localhost:8080/"
        },
        "id": "6gsHUmB1j48y",
        "outputId": "8c8d610d-1b18-4f1c-e2c2-7e1e94b90306"
      },
      "execution_count": 3,
      "outputs": [
        {
          "output_type": "stream",
          "name": "stdout",
          "text": [
            "Loading and cleaning data...\n",
            "Client DataFrame Info:\n",
            "<class 'pandas.core.frame.DataFrame'>\n",
            "RangeIndex: 21652 entries, 0 to 21651\n",
            "Data columns (total 6 columns):\n",
            " #   Column  Non-Null Count  Dtype         \n",
            "---  ------  --------------  -----         \n",
            " 0   region  21652 non-null  int64         \n",
            " 1   date    21652 non-null  datetime64[ns]\n",
            " 2   dis     21652 non-null  int64         \n",
            " 3   id      21652 non-null  int64         \n",
            " 4   catg    21652 non-null  int64         \n",
            " 5   target  21652 non-null  int64         \n",
            "dtypes: datetime64[ns](1), int64(5)\n",
            "memory usage: 1015.1 KB\n",
            "None\n",
            "\n",
            "Invoice DataFrame Info:\n",
            "<class 'pandas.core.frame.DataFrame'>\n",
            "RangeIndex: 500651 entries, 0 to 500650\n",
            "Data columns (total 12 columns):\n",
            " #   Column                Non-Null Count   Dtype         \n",
            "---  ------                --------------   -----         \n",
            " 0   id                    500651 non-null  int64         \n",
            " 1   date                  500651 non-null  datetime64[ns]\n",
            " 2   tarif_type            500651 non-null  int64         \n",
            " 3   counter_statue        500651 non-null  int64         \n",
            " 4   reading_remarque      500651 non-null  int64         \n",
            " 5   consommation_level_4  500651 non-null  int64         \n",
            " 6   months_number         500651 non-null  int64         \n",
            " 7   counter_type          500651 non-null  object        \n",
            " 8   counter_coefficient   500651 non-null  int64         \n",
            " 9   consommation_level_1  500651 non-null  int64         \n",
            " 10  consommation_level_2  500651 non-null  int64         \n",
            " 11  consommation_level_3  500651 non-null  int64         \n",
            "dtypes: datetime64[ns](1), int64(10), object(1)\n",
            "memory usage: 45.8+ MB\n",
            "None\n",
            "\n",
            "Client DataFrame Head:\n",
            "   region       date  dis    id  catg  target\n",
            "0     101 1994-12-31   60     0    11       0\n",
            "1     107 2002-05-29   69     1    11       0\n",
            "2     301 1986-03-13   62    10    11       0\n",
            "3     105 1996-07-11   69   100    11       0\n",
            "4     303 2014-10-14   62  1000    11       0\n",
            "\n",
            "Invoice DataFrame Head:\n",
            "   id       date  tarif_type  counter_statue  reading_remarque  \\\n",
            "0   0 2014-03-24          11               0                 8   \n",
            "1   0 2013-03-29          11               0                 6   \n",
            "2   0 2015-03-23          11               0                 8   \n",
            "3   0 2015-07-13          11               0                 8   \n",
            "4   0 2016-11-17          11               0                 9   \n",
            "\n",
            "   consommation_level_4  months_number counter_type  counter_coefficient  \\\n",
            "0                     0              4         ELEC                    1   \n",
            "1                     0              4         ELEC                    1   \n",
            "2                     0              4         ELEC                    1   \n",
            "3                     0              4         ELEC                    1   \n",
            "4                     0             12         ELEC                    1   \n",
            "\n",
            "   consommation_level_1  consommation_level_2  consommation_level_3  \n",
            "0                    82                     0                     0  \n",
            "1                  1200                   184                     0  \n",
            "2                   123                     0                     0  \n",
            "3                   102                     0                     0  \n",
            "4                   572                     0                     0  \n"
          ]
        },
        {
          "output_type": "stream",
          "name": "stderr",
          "text": [
            "<ipython-input-3-fd5c849e4ba0>:28: FutureWarning: DataFrame.fillna with 'method' is deprecated and will raise in a future version. Use obj.ffill() or obj.bfill() instead.\n",
            "  client_df = client_df.fillna(method='ffill')  # Forward fill for client data\n"
          ]
        },
        {
          "output_type": "stream",
          "name": "stdout",
          "text": [
            "\n",
            "Merged DataFrame Info:\n",
            "<class 'pandas.core.frame.DataFrame'>\n",
            "RangeIndex: 500651 entries, 0 to 500650\n",
            "Data columns (total 17 columns):\n",
            " #   Column                Non-Null Count   Dtype         \n",
            "---  ------                --------------   -----         \n",
            " 0   region                500651 non-null  int64         \n",
            " 1   date_x                500651 non-null  datetime64[ns]\n",
            " 2   dis                   500651 non-null  int64         \n",
            " 3   id                    500651 non-null  int64         \n",
            " 4   catg                  500651 non-null  int64         \n",
            " 5   target                500651 non-null  int64         \n",
            " 6   date_y                500651 non-null  datetime64[ns]\n",
            " 7   tarif_type            500651 non-null  int64         \n",
            " 8   counter_statue        500651 non-null  int64         \n",
            " 9   reading_remarque      500651 non-null  int64         \n",
            " 10  consommation_level_4  500651 non-null  int64         \n",
            " 11  months_number         500651 non-null  int64         \n",
            " 12  counter_type          500651 non-null  object        \n",
            " 13  counter_coefficient   500651 non-null  int64         \n",
            " 14  consommation_level_1  500651 non-null  int64         \n",
            " 15  consommation_level_2  500651 non-null  int64         \n",
            " 16  consommation_level_3  500651 non-null  int64         \n",
            "dtypes: datetime64[ns](2), int64(14), object(1)\n",
            "memory usage: 64.9+ MB\n",
            "None\n",
            "\n",
            "Merged DataFrame Head:\n",
            "   region     date_x  dis  id  catg  target     date_y  tarif_type  \\\n",
            "0     101 1994-12-31   60   0    11       0 2014-03-24          11   \n",
            "1     101 1994-12-31   60   0    11       0 2013-03-29          11   \n",
            "2     101 1994-12-31   60   0    11       0 2015-03-23          11   \n",
            "3     101 1994-12-31   60   0    11       0 2015-07-13          11   \n",
            "4     101 1994-12-31   60   0    11       0 2016-11-17          11   \n",
            "\n",
            "   counter_statue  reading_remarque  consommation_level_4  months_number  \\\n",
            "0               0                 8                     0              4   \n",
            "1               0                 6                     0              4   \n",
            "2               0                 8                     0              4   \n",
            "3               0                 8                     0              4   \n",
            "4               0                 9                     0             12   \n",
            "\n",
            "  counter_type  counter_coefficient  consommation_level_1  \\\n",
            "0         ELEC                    1                    82   \n",
            "1         ELEC                    1                  1200   \n",
            "2         ELEC                    1                   123   \n",
            "3         ELEC                    1                   102   \n",
            "4         ELEC                    1                   572   \n",
            "\n",
            "   consommation_level_2  consommation_level_3  \n",
            "0                     0                     0  \n",
            "1                   184                     0  \n",
            "2                     0                     0  \n",
            "3                     0                     0  \n",
            "4                     0                     0  \n"
          ]
        }
      ]
    },
    {
      "cell_type": "code",
      "execution_count": 8,
      "metadata": {
        "colab": {
          "base_uri": "https://localhost:8080/"
        },
        "id": "XCSMIXwUZze7",
        "outputId": "97e4c582-57ad-473b-e073-3d0236bb21c0"
      },
      "outputs": [
        {
          "output_type": "stream",
          "name": "stdout",
          "text": [
            "Point-biserial Correlations and p-values for Numerical and Ordinal Features with Target:\n",
            "consommation_level_1: Correlation = 0.02477505700263692, p-value = 8.070574949672235e-69\n",
            "consommation_level_2: Correlation = 0.007345799845428326, p-value = 2.0176681059940557e-07\n",
            "consommation_level_3: Correlation = 0.03012021827602604, p-value = 7.920719177463544e-101\n",
            "consommation_level_4: Correlation = 0.013322710843652143, p-value = 4.215643148162985e-21\n",
            "counter_coefficient: Correlation = -0.000843270648041666, p-value = 0.550728351150056\n",
            "tarif_type: Correlation = -0.0025972062087493124, p-value = 0.06610724206640818\n",
            "counter_statue: Correlation = 0.005431793872923784, p-value = 0.00012135302054051574\n",
            "reading_remarque: Correlation = 0.01732414356136487, p-value = 1.5056496612662735e-34\n",
            "Chi-square Test Results for Categorical Features with Target:\n",
            "dis: Chi-square = 1763.086989150621, p-value = 0.0\n",
            "catg: Chi-square = 1860.242605859828, p-value = 0.0\n",
            "region: Chi-square = 4969.587368437013, p-value = 0.0\n",
            "months_number: Chi-square = 812.2759942011397, p-value = 3.926937524831558e-91\n",
            "counter_type: Chi-square = 1.918533778975653, p-value = 0.16601838578275865\n"
          ]
        }
      ],
      "source": [
        "# Separate features by type\n",
        "X = merged_df.drop(columns=['target'])  # Features\n",
        "y = merged_df['target']  # Target variable\n",
        "numerical_features = ['consommation_level_1', 'consommation_level_2', 'consommation_level_3', 'consommation_level_4', 'counter_coefficient']\n",
        "categorical_features = ['dis', 'catg', 'region', 'months_number', 'counter_type']\n",
        "ordinal_features = ['tarif_type', 'counter_statue', 'reading_remarque']\n",
        "\n",
        "# Encode ordinal features if not already encoded\n",
        "encoder = OrdinalEncoder()\n",
        "X[ordinal_features] = encoder.fit_transform(X[ordinal_features])\n",
        "\n",
        "# Dictionary to store correlations and p-values\n",
        "correlations = {}\n",
        "\n",
        "# Calculate Point-biserial correlation for numerical features\n",
        "for column in numerical_features:\n",
        "    correlation, p_value = pointbiserialr(merged_df[column], y)\n",
        "    correlations[column] = {'correlation': correlation, 'p_value': p_value}\n",
        "\n",
        "# Calculate Point-biserial correlation for ordinal features\n",
        "for column in ordinal_features:\n",
        "    correlation, p_value = pointbiserialr(merged_df[column], y)\n",
        "    correlations[column] = {'correlation': correlation, 'p_value': p_value}\n",
        "\n",
        "# Display correlations and p-values\n",
        "print(\"Point-biserial Correlations and p-values for Numerical and Ordinal Features with Target:\")\n",
        "for feature, stats in correlations.items():\n",
        "    print(f\"{feature}: Correlation = {stats['correlation']}, p-value = {stats['p_value']}\")\n",
        "\n",
        "# Chi-square test for categorical features with binary target\n",
        "chi2_results = {}\n",
        "for feature in categorical_features:\n",
        "    contingency_table = pd.crosstab(merged_df[feature], merged_df['target'])\n",
        "    chi2, p, dof, _ = chi2_contingency(contingency_table)\n",
        "    chi2_results[feature] = {'chi2': chi2, 'p_value': p}\n",
        "\n",
        "# Display the Chi-square test results\n",
        "print(\"Chi-square Test Results for Categorical Features with Target:\")\n",
        "for feature, result in chi2_results.items():\n",
        "    print(f\"{feature}: Chi-square = {result['chi2']}, p-value = {result['p_value']}\")"
      ]
    },
    {
      "cell_type": "markdown",
      "source": [
        "2. Calculating the non-linear correlation/relationship with target variable"
      ],
      "metadata": {
        "id": "WOCIgK5QqMhy"
      }
    },
    {
      "cell_type": "code",
      "source": [
        "#Use decision tree to get non-linear relationship\n",
        "from sklearn.ensemble import RandomForestClassifier\n",
        "\n",
        "numerical_features = ['consommation_level_1', 'consommation_level_2', 'consommation_level_3', 'consommation_level_4', 'counter_coefficient']\n",
        "categorical_feature = ['dis', 'catg', 'region', 'months_number', 'counter_type']  # Replace with your numeric categorical columns\n",
        "ordinal_features = ['tarif_type', 'counter_statue', 'reading_remarque']  # Replace with your ordinal feature names\n",
        "\n",
        "#data clean for decision tree\n",
        "preprocessor = ColumnTransformer(\n",
        "    transformers=[\n",
        "        ('num', 'passthrough', numerical_features),  # Pass through numerical features as is\n",
        "        ('ord', OrdinalEncoder(), ordinal_features),  # Ordinal encoding for ordinal features\n",
        "        ('cat', OneHotEncoder(handle_unknown='ignore'), categorical_features)  # One-hot encoding for categorical features\n",
        "    ])\n",
        "\n",
        "# Define pipeline with preprocessor and decision tree model\n",
        "pipeline = Pipeline(steps=[\n",
        "    ('preprocessor', preprocessor),\n",
        "    ('classifier', DecisionTreeClassifier(random_state=1244))\n",
        "])\n",
        "\n",
        "\n",
        "# Train the model\n",
        "pipeline.fit(X, y)\n",
        "\n",
        "# Get feature importances\n",
        "model = pipeline.named_steps['classifier']\n",
        "feature_importances = model.feature_importances_\n",
        "\n",
        "# Display feature importances\n",
        "encoded_features = numerical_features + ordinal_features + list(pipeline.named_steps['preprocessor'].transformers_[2][1].get_feature_names_out(categorical_features))\n",
        "importances_df = pd.DataFrame({'Feature': encoded_features, 'Importance': feature_importances})\n",
        "importances_df = importances_df.sort_values(by='Importance', ascending=False)\n",
        "\n",
        "print(importances_df[:30])"
      ],
      "metadata": {
        "colab": {
          "base_uri": "https://localhost:8080/"
        },
        "id": "h-8fBFnYqXAC",
        "outputId": "187fa223-e59c-495b-f478-59b0cfd879c0"
      },
      "execution_count": 9,
      "outputs": [
        {
          "output_type": "stream",
          "name": "stdout",
          "text": [
            "                  Feature  Importance\n",
            "0    consommation_level_1    0.426643\n",
            "1    consommation_level_2    0.177229\n",
            "3    consommation_level_4    0.072939\n",
            "7        reading_remarque    0.060846\n",
            "2    consommation_level_3    0.052192\n",
            "5              tarif_type    0.025966\n",
            "6          counter_statue    0.015018\n",
            "42        months_number_4    0.013880\n",
            "46        months_number_8    0.011361\n",
            "40        months_number_2    0.007830\n",
            "16             region_103    0.007558\n",
            "31             region_310    0.006184\n",
            "28             region_307    0.006053\n",
            "14                catg_51    0.005421\n",
            "13                catg_12    0.005096\n",
            "192      counter_type_GAZ    0.005009\n",
            "10                 dis_63    0.004812\n",
            "23             region_302    0.004698\n",
            "44        months_number_6    0.004613\n",
            "17             region_104    0.004545\n",
            "39        months_number_1    0.004382\n",
            "20             region_107    0.004333\n",
            "11                 dis_69    0.004279\n",
            "191     counter_type_ELEC    0.004148\n",
            "26             region_305    0.004107\n",
            "12                catg_11    0.003901\n",
            "50       months_number_12    0.003862\n",
            "8                  dis_60    0.003831\n",
            "32             region_311    0.003385\n",
            "35             region_371    0.003265\n"
          ]
        }
      ]
    },
    {
      "cell_type": "markdown",
      "source": [
        "3. Finding out the relationship between date and target variable."
      ],
      "metadata": {
        "id": "NRG_Tfd9PY-I"
      }
    },
    {
      "cell_type": "markdown",
      "source": [
        "a. Date client joined to target variable"
      ],
      "metadata": {
        "id": "ZAXHw-MZnydZ"
      }
    },
    {
      "cell_type": "code",
      "source": [
        "# Assuming 'date_x' is the relevant date column in datetime format (cilent join date)\n",
        "# Extract year and month from the 'date_x' column\n",
        "merged_df['year'] = merged_df['date_x'].dt.year\n",
        "merged_df['month'] = merged_df['date_x'].dt.month\n",
        "\n",
        "# Calculate the average target (fraud rate) by year\n",
        "fraud_rate_by_year = merged_df.groupby('year')['target'].mean().reset_index()\n",
        "\n",
        "# Calculate the average target (fraud rate) by month (aggregated across all years)\n",
        "fraud_rate_by_month = merged_df.groupby('month')['target'].mean().reset_index()\n",
        "\n",
        "# Plotting the fraud rate by year\n",
        "plt.figure(figsize=(12, 6))\n",
        "plt.bar(fraud_rate_by_year['year'], fraud_rate_by_year['target'], color='skyblue')\n",
        "plt.title('Fraud Rate by Year')\n",
        "plt.xlabel('Year')\n",
        "plt.ylabel('Average Target (Fraud Rate)')\n",
        "plt.xticks(rotation=45)\n",
        "plt.show()\n",
        "\n",
        "# Plotting the fraud rate by month\n",
        "plt.figure(figsize=(12, 6))\n",
        "plt.bar(fraud_rate_by_month['month'], fraud_rate_by_month['target'], color='salmon')\n",
        "plt.title('Fraud Rate by Month')\n",
        "plt.xlabel('Month')\n",
        "plt.ylabel('Average Target (Fraud Rate)')\n",
        "plt.xticks(range(1, 13))\n",
        "plt.show()"
      ],
      "metadata": {
        "colab": {
          "base_uri": "https://localhost:8080/",
          "height": 1000
        },
        "id": "hgepGKb4-lj_",
        "outputId": "93b69596-fc96-45cc-96e4-ff6161f90c6f"
      },
      "execution_count": 10,
      "outputs": [
        {
          "output_type": "display_data",
          "data": {
            "text/plain": [
              "<Figure size 1200x600 with 1 Axes>"
            ],
            "image/png": "[encoded data removed]"
          },
          "metadata": {}
        },
        {
          "output_type": "display_data",
          "data": {
            "text/plain": [
              "<Figure size 1200x600 with 1 Axes>"
            ],
            "image/png": "[encoded data removed]"
          },
          "metadata": {}
        }
      ]
    },
    {
      "cell_type": "markdown",
      "source": [
        "b. Date of invoice transaction to target variable"
      ],
      "metadata": {
        "id": "Xez6Ynk4n589"
      }
    },
    {
      "cell_type": "code",
      "source": [
        "# Assuming 'date_y' is the relevant date column in datetime format (invoice transaction date)\n",
        "# Extract year and month from the 'date_y' column\n",
        "merged_df['year'] = merged_df['date_y'].dt.year\n",
        "merged_df['month'] = merged_df['date_y'].dt.month\n",
        "\n",
        "# Calculate the average target (fraud rate) by year\n",
        "fraud_rate_by_year = merged_df.groupby('year')['target'].mean().reset_index()\n",
        "\n",
        "# Calculate the average target (fraud rate) by month (aggregated across all years)\n",
        "fraud_rate_by_month = merged_df.groupby('month')['target'].mean().reset_index()\n",
        "\n",
        "# Plotting the fraud rate by year\n",
        "plt.figure(figsize=(12, 6))\n",
        "plt.bar(fraud_rate_by_year['year'], fraud_rate_by_year['target'], color='skyblue')\n",
        "plt.title('Fraud Rate by Year')\n",
        "plt.xlabel('Year')\n",
        "plt.ylabel('Average Target (Fraud Rate)')\n",
        "plt.xticks(rotation=45)\n",
        "plt.show()\n",
        "\n",
        "# Plotting the fraud rate by month\n",
        "plt.figure(figsize=(12, 6))\n",
        "plt.bar(fraud_rate_by_month['month'], fraud_rate_by_month['target'], color='salmon')\n",
        "plt.title('Fraud Rate by Month')\n",
        "plt.xlabel('Month')\n",
        "plt.ylabel('Average Target (Fraud Rate)')\n",
        "plt.xticks(range(1, 13))\n",
        "plt.show()\n"
      ],
      "metadata": {
        "colab": {
          "base_uri": "https://localhost:8080/",
          "height": 1000
        },
        "id": "Pn5nSCAy7QEW",
        "outputId": "3f3b99cc-869b-4345-86f9-7caee2f3b679"
      },
      "execution_count": 11,
      "outputs": [
        {
          "output_type": "display_data",
          "data": {
            "text/plain": [
              "<Figure size 1200x600 with 1 Axes>"
            ],
            "image/png": "[encoded data removed]"
          },
          "metadata": {}
        },
        {
          "output_type": "display_data",
          "data": {
            "text/plain": [
              "<Figure size 1200x600 with 1 Axes>"
            ],
            "image/png": "[encoded data removed]"
          },
          "metadata": {}
        }
      ]
    },
    {
      "cell_type": "markdown",
      "source": [
        "4a. Aggregate invoice transactions to client id, to make new aggregated data that better represents each client's transaction patterns."
      ],
      "metadata": {
        "id": "PUE8Bl9LPmDL"
      }
    },
    {
      "cell_type": "code",
      "source": [
        "aggregated_df = merged_df.groupby('id').agg(\n",
        "    # Consumption levels: sum, mean, std, max, min\n",
        "    consommation_level_1_sum=('consommation_level_1', 'sum'),\n",
        "    consommation_level_1_mean=('consommation_level_1', 'mean'),\n",
        "    consommation_level_1_std=('consommation_level_1', 'std'),\n",
        "    consommation_level_1_max=('consommation_level_1', 'max'),\n",
        "    consommation_level_1_min=('consommation_level_1', 'min'),\n",
        "\n",
        "    consommation_level_2_sum=('consommation_level_2', 'sum'),\n",
        "    consommation_level_2_mean=('consommation_level_2', 'mean'),\n",
        "    consommation_level_2_std=('consommation_level_2', 'std'),\n",
        "    consommation_level_2_max=('consommation_level_2', 'max'),\n",
        "    consommation_level_2_min=('consommation_level_2', 'min'),\n",
        "\n",
        "    consommation_level_3_sum=('consommation_level_3', 'sum'),\n",
        "    consommation_level_3_mean=('consommation_level_3', 'mean'),\n",
        "    consommation_level_3_std=('consommation_level_3', 'std'),\n",
        "    consommation_level_3_max=('consommation_level_3', 'max'),\n",
        "    consommation_level_3_min=('consommation_level_3', 'min'),\n",
        "\n",
        "    consommation_level_4_sum=('consommation_level_4', 'sum'),\n",
        "    consommation_level_4_mean=('consommation_level_4', 'mean'),\n",
        "    consommation_level_4_std=('consommation_level_4', 'std'),\n",
        "    consommation_level_4_max=('consommation_level_4', 'max'),\n",
        "    consommation_level_4_min=('consommation_level_4', 'min'),\n",
        "\n",
        "    # Reading Remarque: mean (average)\n",
        "    reading_remarque_mean=('reading_remarque', 'mean'),\n",
        "\n",
        "    # Counter statue: mean and mode\n",
        "    counter_statue_avg=('counter_statue', 'mean'),\n",
        "    counter_statue_mode=('counter_statue', lambda x: x.mode()[0]),\n",
        "\n",
        "    # Transactions per client\n",
        "    total_transactions=('date_y', 'count'),  # Total transactions\n",
        "    avg_transactions_per_month=('date_y', lambda x: x.nunique() / ((x.max() - x.min()).days / 30 if (x.max() - x.min()).days != 0 else 1)),  # Avg transactions per month\n",
        "    transaction_period_length_days=('date_y', lambda x: (x.max() - x.min()).days)  # Length of transaction period in days\n",
        ").reset_index()\n",
        "\n",
        "# Step 2a: Calculate the mode for categorical variables\n",
        "mode_df = merged_df.groupby('id').agg({\n",
        "    'tarif_type': lambda x: x.mode()[0],  # Mode\n",
        "    'counter_type': lambda x: x.mode()[0],\n",
        "    'months_number': lambda x: x.mode()[0]\n",
        "}).reset_index()\n",
        "\n",
        "# Rename columns for clarity after calculating mode\n",
        "mode_df.columns = ['id', 'tarif_type_mode', 'counter_type_mode', 'months_number_mode']\n",
        "\n",
        "# Step 2b: Calculate the unique count for categorical variables\n",
        "unique_count_df = merged_df.groupby('id').agg({\n",
        "    'tarif_type': 'nunique',  # Unique count\n",
        "    'counter_type': 'nunique',\n",
        "    'months_number': 'nunique'\n",
        "}).reset_index()\n",
        "\n",
        "# Rename columns for clarity after calculating unique counts\n",
        "unique_count_df.columns = ['id', 'tarif_type_unique_count', 'counter_type_unique_count', 'months_number_unique_count']\n",
        "\n",
        "# Step 3: Merge all three DataFrames on 'id'\n",
        "final_aggregated_df = aggregated_df.merge(mode_df, on='id').merge(unique_count_df, on='id')\n",
        "\n",
        "# Display the final aggregated DataFrame\n",
        "print(final_aggregated_df.head())"
      ],
      "metadata": {
        "colab": {
          "base_uri": "https://localhost:8080/"
        },
        "id": "ZJ0rcXolP0j2",
        "outputId": "eaeacdf1-9f20-474c-9a4e-d446c9908295"
      },
      "execution_count": 12,
      "outputs": [
        {
          "output_type": "stream",
          "name": "stdout",
          "text": [
            "    id  consommation_level_1_sum  consommation_level_1_mean  \\\n",
            "0    0                     12334                 352.400000   \n",
            "1    1                     20629                 557.540541   \n",
            "2   10                     14375                 798.611111   \n",
            "3   12                      5724                 357.750000   \n",
            "4  100                        24                   1.200000   \n",
            "\n",
            "   consommation_level_1_std  consommation_level_1_max  \\\n",
            "0                310.343472                      1200   \n",
            "1                197.935960                      1207   \n",
            "2                513.841374                      2400   \n",
            "3                232.908995                       925   \n",
            "4                  3.607011                        15   \n",
            "\n",
            "   consommation_level_1_min  consommation_level_2_sum  \\\n",
            "0                        38                       370   \n",
            "1                       190                         0   \n",
            "2                       188                       682   \n",
            "3                         7                      1740   \n",
            "4                         0                         0   \n",
            "\n",
            "   consommation_level_2_mean  consommation_level_2_std  \\\n",
            "0                  10.571429                 43.568935   \n",
            "1                   0.000000                  0.000000   \n",
            "2                  37.888889                160.748942   \n",
            "3                 108.750000                150.329194   \n",
            "4                   0.000000                  0.000000   \n",
            "\n",
            "   consommation_level_2_max  ...  counter_statue_mode  total_transactions  \\\n",
            "0                       186  ...                    0                  35   \n",
            "1                         0  ...                    0                  37   \n",
            "2                       682  ...                    0                  18   \n",
            "3                       422  ...                    0                  16   \n",
            "4                         0  ...                    0                  20   \n",
            "\n",
            "   avg_transactions_per_month  transaction_period_length_days  \\\n",
            "0                    0.214242                            4901   \n",
            "1                    0.225931                            4913   \n",
            "2                    0.109734                            4921   \n",
            "3                    0.167306                            2869   \n",
            "4                    0.225225                            2664   \n",
            "\n",
            "   tarif_type_mode  counter_type_mode  months_number_mode  \\\n",
            "0               11               ELEC                   4   \n",
            "1               11               ELEC                   4   \n",
            "2               11               ELEC                   4   \n",
            "3               10               ELEC                   4   \n",
            "4               11               ELEC                   4   \n",
            "\n",
            "   tarif_type_unique_count  counter_type_unique_count  \\\n",
            "0                        1                          1   \n",
            "1                        1                          1   \n",
            "2                        1                          1   \n",
            "3                        1                          1   \n",
            "4                        1                          1   \n",
            "\n",
            "   months_number_unique_count  \n",
            "0                           4  \n",
            "1                           3  \n",
            "2                           3  \n",
            "3                           4  \n",
            "4                           2  \n",
            "\n",
            "[5 rows x 33 columns]\n"
          ]
        }
      ]
    },
    {
      "cell_type": "markdown",
      "source": [
        "4b. Merge aggregate invoice to client. Then drop date, client id and counter_coefficient from final aggregated df.\n"
      ],
      "metadata": {
        "id": "0BrUeXTnVM9-"
      }
    },
    {
      "cell_type": "code",
      "source": [
        "# Flatten MultiIndex columns\n",
        "final_aggregated_df.columns = ['_'.join(col).strip() if isinstance(col, tuple) else col\n",
        "                       for col in final_aggregated_df]\n",
        "\n",
        "# Perform the merge\n",
        "final_transformed_df = pd.merge(client_df, final_aggregated_df, left_on='id', right_on='id')\n",
        "\n",
        "# Drop the specified columns from merged_df\n",
        "final_transformed_df = final_transformed_df.drop(columns=['id', 'date'])\n",
        "\n",
        "# Convert categorical columns into numerical ones using one-hot encoding\n",
        "\n",
        "# Display the first few rows to confirm the columns were dropped\n",
        "print(final_transformed_df.head())"
      ],
      "metadata": {
        "colab": {
          "base_uri": "https://localhost:8080/"
        },
        "id": "XCKtq9C5VKhO",
        "outputId": "7c38f748-b8bf-4ff6-ef6c-dcaa9f5e3360"
      },
      "execution_count": 13,
      "outputs": [
        {
          "output_type": "stream",
          "name": "stdout",
          "text": [
            "   region  dis  catg  target  consommation_level_1_sum  \\\n",
            "0     101   60    11       0                     12334   \n",
            "1     107   69    11       0                     20629   \n",
            "2     301   62    11       0                     14375   \n",
            "3     105   69    11       0                        24   \n",
            "4     303   62    11       0                      9292   \n",
            "\n",
            "   consommation_level_1_mean  consommation_level_1_std  \\\n",
            "0                 352.400000                310.343472   \n",
            "1                 557.540541                197.935960   \n",
            "2                 798.611111                513.841374   \n",
            "3                   1.200000                  3.607011   \n",
            "4                 663.714286                224.831365   \n",
            "\n",
            "   consommation_level_1_max  consommation_level_1_min  \\\n",
            "0                      1200                        38   \n",
            "1                      1207                       190   \n",
            "2                      2400                       188   \n",
            "3                        15                         0   \n",
            "4                       800                       124   \n",
            "\n",
            "   consommation_level_2_sum  ...  counter_statue_mode  total_transactions  \\\n",
            "0                       370  ...                    0                  35   \n",
            "1                         0  ...                    0                  37   \n",
            "2                       682  ...                    0                  18   \n",
            "3                         0  ...                    0                  20   \n",
            "4                      1468  ...                    0                  14   \n",
            "\n",
            "   avg_transactions_per_month  transaction_period_length_days  \\\n",
            "0                    0.214242                            4901   \n",
            "1                    0.225931                            4913   \n",
            "2                    0.109734                            4921   \n",
            "3                    0.225225                            2664   \n",
            "4                    0.264984                            1585   \n",
            "\n",
            "   tarif_type_mode  counter_type_mode  months_number_mode  \\\n",
            "0               11               ELEC                   4   \n",
            "1               11               ELEC                   4   \n",
            "2               11               ELEC                   4   \n",
            "3               11               ELEC                   4   \n",
            "4               11               ELEC                   4   \n",
            "\n",
            "   tarif_type_unique_count  counter_type_unique_count  \\\n",
            "0                        1                          1   \n",
            "1                        1                          1   \n",
            "2                        1                          1   \n",
            "3                        1                          1   \n",
            "4                        1                          1   \n",
            "\n",
            "   months_number_unique_count  \n",
            "0                           4  \n",
            "1                           3  \n",
            "2                           3  \n",
            "3                           2  \n",
            "4                           2  \n",
            "\n",
            "[5 rows x 36 columns]\n"
          ]
        }
      ]
    },
    {
      "cell_type": "markdown",
      "source": [
        "5. Finding the correlation between target variable (fraud) and the new x feature variables"
      ],
      "metadata": {
        "id": "Umz7lKFWsme2"
      }
    },
    {
      "cell_type": "code",
      "execution_count": 14,
      "metadata": {
        "colab": {
          "base_uri": "https://localhost:8080/"
        },
        "outputId": "b5d03ac7-48d2-4dfa-b945-f1d7bd86b036",
        "id": "LTqY3lpZsr7w"
      },
      "outputs": [
        {
          "output_type": "stream",
          "name": "stdout",
          "text": [
            "Correlation of Numerical Features with Target Variable (Fraud):\n",
            "months_number_unique_count        0.108873\n",
            "transaction_period_length_days    0.108058\n",
            "consommation_level_3_max          0.101663\n",
            "consommation_level_3_std          0.101656\n",
            "total_transactions                0.099413\n",
            "consommation_level_1_sum          0.098423\n",
            "consommation_level_3_sum          0.078073\n",
            "consommation_level_1_max          0.056624\n",
            "consommation_level_4_max          0.043312\n",
            "consommation_level_1_std          0.037551\n",
            "consommation_level_4_std          0.036014\n",
            "consommation_level_2_sum          0.033393\n",
            "tarif_type_unique_count           0.033191\n",
            "consommation_level_1_mean         0.032812\n",
            "consommation_level_3_mean         0.025687\n",
            "consommation_level_4_sum          0.022842\n",
            "consommation_level_4_mean         0.022053\n",
            "counter_type_unique_count         0.019978\n",
            "consommation_level_2_mean         0.019938\n",
            "consommation_level_2_std          0.018640\n",
            "consommation_level_2_max          0.017070\n",
            "consommation_level_4_min         -0.000186\n",
            "consommation_level_3_min         -0.000996\n",
            "consommation_level_2_min         -0.007254\n",
            "avg_transactions_per_month       -0.019299\n",
            "consommation_level_1_min         -0.035626\n",
            "dtype: float64\n",
            "Chi-square Test Results for Categorical Features with Target:\n",
            "region: Chi-square = 172.14218213354502, p-value = 8.241432853155254e-25\n",
            "dis: Chi-square = 68.73581935022222, p-value = 7.960199761160285e-15\n",
            "catg: Chi-square = 77.89922790072318, p-value = 1.2145001956281495e-17\n",
            "tarif_type_mode: Chi-square = 29.164750587938943, p-value = 0.0011717616707356807\n",
            "counter_type_mode: Chi-square = 6.32566927744662, p-value = 0.011900256669575908\n",
            "months_number_mode: Chi-square = 33.33182626565211, p-value = 0.057356201055591645\n",
            "\n",
            "Point-biserial Correlation Results for Ordinal Features with Target:\n",
            "reading_remarque_mean: Correlation = 0.039315241288048336, p-value = 7.165839577317455e-09\n",
            "counter_statue_avg: Correlation = 0.006368338681439753, p-value = 0.34874202188792497\n"
          ]
        }
      ],
      "source": [
        "# Select numerical features\n",
        "numerical_features = final_transformed_df.select_dtypes(include=['float64', 'int64']).drop(columns=['target', 'region', 'dis', 'catg', 'reading_remarque_mean',\n",
        "                                                                                                    'tarif_type_mode', 'months_number_mode', 'counter_statue_mode', 'counter_statue_avg'])  # Exclude target to avoid self-correlation\n",
        "\n",
        "# Calculate Pearson correlation between numerical features and the target variable\n",
        "correlation_with_target = numerical_features.corrwith(final_transformed_df['target']).sort_values(ascending=False)\n",
        "\n",
        "# Display the correlation results\n",
        "print(\"Correlation of Numerical Features with Target Variable (Fraud):\")\n",
        "print(correlation_with_target)\n",
        "\n",
        "# Initialize dictionaries to store results\n",
        "chi2_results = {}\n",
        "pointbiserial_results = {}\n",
        "\n",
        "# Categorical variables to test with Chi-square\n",
        "categorical_features = ['region', 'dis', 'catg', 'tarif_type_mode', 'counter_type_mode', 'months_number_mode']  # Adjust as needed\n",
        "\n",
        "# Chi-square test for categorical features with the target\n",
        "for feature in categorical_features:\n",
        "    contingency_table = pd.crosstab(final_transformed_df[feature], final_transformed_df['target'])\n",
        "    chi2, p, dof, _ = chi2_contingency(contingency_table)\n",
        "    chi2_results[feature] = {'chi2': chi2, 'p_value': p}\n",
        "\n",
        "# Ordinal variables to test with Point-biserial\n",
        "ordinal_features = ['reading_remarque_mean', 'counter_statue_avg']  # Adjust as needed\n",
        "\n",
        "# Point-biserial correlation for ordinal features with the binary target\n",
        "for feature in ordinal_features:\n",
        "    correlation, p_value = pointbiserialr(final_transformed_df[feature], final_transformed_df['target'])\n",
        "    pointbiserial_results[feature] = {'correlation': correlation, 'p_value': p_value}\n",
        "\n",
        "# Display Chi-square results\n",
        "print(\"Chi-square Test Results for Categorical Features with Target:\")\n",
        "for feature, result in chi2_results.items():\n",
        "    print(f\"{feature}: Chi-square = {result['chi2']}, p-value = {result['p_value']}\")\n",
        "\n",
        "# Display Point-biserial correlation results\n",
        "print(\"\\nPoint-biserial Correlation Results for Ordinal Features with Target:\")\n",
        "for feature, result in pointbiserial_results.items():\n",
        "    print(f\"{feature}: Correlation = {result['correlation']}, p-value = {result['p_value']}\")\n"
      ]
    },
    {
      "cell_type": "markdown",
      "source": [],
      "metadata": {
        "id": "CP4fg1pRZ5ZK"
      }
    }
  ]
}