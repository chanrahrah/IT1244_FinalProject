{
  "cells": [
    {
      "cell_type": "markdown",
      "metadata": {
        "id": "OO5Z70-k_nP4"
      },
      "source": [
        "1. Importing Libraries"
      ]
    },
    {
      "cell_type": "code",
      "execution_count": null,
      "metadata": {
        "id": "a-NY-JDg-tEp",
        "collapsed": true
      },
      "outputs": [],
      "source": [
        "## !pip install tensorflow==2.12.0\n",
        "import random\n",
        "import numpy as np\n",
        "import pandas as pd\n",
        "import tensorflow as tf\n",
        "from tensorflow.keras.models import Sequential\n",
        "from tensorflow.keras.layers import Dense, BatchNormalization, Dropout\n",
        "from tensorflow.keras.optimizers import Adam, RMSprop, Nadam, Adamax, SGD\n",
        "from sklearn.model_selection import train_test_split, StratifiedKFold, RandomizedSearchCV\n",
        "from sklearn.preprocessing import StandardScaler\n",
        "from sklearn.neighbors import KNeighborsClassifier\n",
        "from sklearn.linear_model import LogisticRegression\n",
        "from sklearn.ensemble import RandomForestClassifier\n",
        "from sklearn.metrics import (fbeta_score, f1_score, precision_score, recall_score,\n",
        "                             precision_recall_curve, confusion_matrix, make_scorer,\n",
        "                            roc_curve, roc_auc_score)\n",
        "from sklearn.metrics import auc as sklearn_auc\n",
        "from sklearn.metrics import classification_report\n",
        "from imblearn.over_sampling import SMOTE\n",
        "from imblearn.combine import SMOTEENN, SMOTETomek\n",
        "from imblearn.under_sampling import TomekLinks\n",
        "from imblearn.pipeline import make_pipeline\n",
        "import joblib  # For saving models\n",
        "import matplotlib.pyplot as plt"
      ]
    },
    {
      "cell_type": "markdown",
      "metadata": {
        "id": "lM6rkhKhARcD"
      },
      "source": [
        "2. For importing from google drive"
      ]
    },
    {
      "cell_type": "code",
      "execution_count": null,
      "metadata": {
        "id": "uOf0OlsSARJJ",
        "colab": {
          "base_uri": "https://localhost:8080/"
        },
        "outputId": "a3455d23-d5d3-41a4-ee6a-8353be8d7a58"
      },
      "outputs": [
        {
          "output_type": "stream",
          "name": "stdout",
          "text": [
            "Mounted at /content/drive\n"
          ]
        }
      ],
      "source": [
        "from google.colab import drive\n",
        "drive.mount('/content/drive', force_remount=True)"
      ]
    },
    {
      "cell_type": "markdown",
      "metadata": {
        "id": "86xknomz_vwG"
      },
      "source": [
        "3. Load and Merge Datasets"
      ]
    },
    {
      "cell_type": "code",
      "execution_count": null,
      "metadata": {
        "id": "uGhHEp-P_vOT",
        "colab": {
          "base_uri": "https://localhost:8080/"
        },
        "outputId": "1552362f-9c5d-41a8-cec7-70533f4c883c"
      },
      "outputs": [
        {
          "output_type": "stream",
          "name": "stdout",
          "text": [
            "Loading and cleaning data...\n"
          ]
        },
        {
          "output_type": "stream",
          "name": "stderr",
          "text": [
            "<ipython-input-3-ba30b5271945>:17: FutureWarning: DataFrame.fillna with 'method' is deprecated and will raise in a future version. Use obj.ffill() or obj.bfill() instead.\n",
            "  client_df = client_df.fillna(method='ffill')  # Forward fill for client data\n"
          ]
        },
        {
          "output_type": "stream",
          "name": "stdout",
          "text": [
            "Aggregating invoice data...\n",
            "Calculating modes for categorical columns...\n",
            "Calculating unique counts for categorical variables...\n",
            "Merging aggregated data...\n",
            "Applying one-hot encoding to categorical data...\n",
            "Exporting cleaned data to CSV...\n",
            "Cleaned data preview:\n",
            "        date    id  target  consommation_level_1_sum  \\\n",
            "0 1994-12-31     0       0                     12334   \n",
            "1 2002-05-29     1       0                     20629   \n",
            "2 1986-03-13    10       0                     14375   \n",
            "3 1996-07-11   100       0                        24   \n",
            "4 2014-10-14  1000       0                      9292   \n",
            "\n",
            "   consommation_level_1_mean  consommation_level_1_std  \\\n",
            "0                 352.400000                310.343472   \n",
            "1                 557.540541                197.935960   \n",
            "2                 798.611111                513.841374   \n",
            "3                   1.200000                  3.607011   \n",
            "4                 663.714286                224.831365   \n",
            "\n",
            "   consommation_level_1_max  consommation_level_1_min  \\\n",
            "0                      1200                        38   \n",
            "1                      1207                       190   \n",
            "2                      2400                       188   \n",
            "3                        15                         0   \n",
            "4                       800                       124   \n",
            "\n",
            "   consommation_level_2_sum  consommation_level_2_mean  ...  \\\n",
            "0                       370                  10.571429  ...   \n",
            "1                         0                   0.000000  ...   \n",
            "2                       682                  37.888889  ...   \n",
            "3                         0                   0.000000  ...   \n",
            "4                      1468                 104.857143  ...   \n",
            "\n",
            "   months_number_mode_28  months_number_mode_30  months_number_mode_32  \\\n",
            "0                  False                  False                  False   \n",
            "1                  False                  False                  False   \n",
            "2                  False                  False                  False   \n",
            "3                  False                  False                  False   \n",
            "4                  False                  False                  False   \n",
            "\n",
            "   months_number_mode_36  months_number_mode_2246  months_number_mode_7467  \\\n",
            "0                  False                    False                    False   \n",
            "1                  False                    False                    False   \n",
            "2                  False                    False                    False   \n",
            "3                  False                    False                    False   \n",
            "4                  False                    False                    False   \n",
            "\n",
            "   months_number_mode_24755  months_number_mode_25778  \\\n",
            "0                     False                     False   \n",
            "1                     False                     False   \n",
            "2                     False                     False   \n",
            "3                     False                     False   \n",
            "4                     False                     False   \n",
            "\n",
            "   months_number_mode_78585  counter_type_mode_GAZ  \n",
            "0                     False                  False  \n",
            "1                     False                  False  \n",
            "2                     False                  False  \n",
            "3                     False                  False  \n",
            "4                     False                  False  \n",
            "\n",
            "[5 rows x 84 columns]\n"
          ]
        }
      ],
      "source": [
        "# Set Seeds for Reproducibility\n",
        "random.seed(1244)\n",
        "np.random.seed(1244)\n",
        "tf.random.set_seed(1244)\n",
        "\n",
        "print(\"Loading and cleaning data...\")\n",
        "\n",
        "# Load the client and invoice data from CSV files\n",
        "client_df = pd.read_csv('/content/drive/MyDrive/IT1244 Project/Original Datas/client.csv')\n",
        "invoice_df = pd.read_csv('/content/drive/MyDrive/IT1244 Project/Original Datas/invoice.csv')\n",
        "\n",
        "# Convert 'date' columns to datetime format for both datasets\n",
        "client_df['date'] = pd.to_datetime(client_df['date'], format='%d/%m/%Y')\n",
        "invoice_df['date'] = pd.to_datetime(invoice_df['date'], format='%d/%m/%Y')\n",
        "\n",
        "# Handle missing values\n",
        "client_df = client_df.fillna(method='ffill')  # Forward fill for client data\n",
        "invoice_df = invoice_df.fillna(0)  # Replace missing values with 0 for invoice data\n",
        "\n",
        "# Aggregate invoice data by 'id'\n",
        "print(\"Aggregating invoice data...\")\n",
        "aggregated_df = invoice_df.groupby('id').agg(\n",
        "    # Aggregations for consumption levels\n",
        "    consommation_level_1_sum=('consommation_level_1', 'sum'),\n",
        "    consommation_level_1_mean=('consommation_level_1', 'mean'),\n",
        "    consommation_level_1_std=('consommation_level_1', 'std'),\n",
        "    consommation_level_1_max=('consommation_level_1', 'max'),\n",
        "    consommation_level_1_min=('consommation_level_1', 'min'),\n",
        "\n",
        "    consommation_level_2_sum=('consommation_level_2', 'sum'),\n",
        "    consommation_level_2_mean=('consommation_level_2', 'mean'),\n",
        "    consommation_level_2_std=('consommation_level_2', 'std'),\n",
        "    consommation_level_2_max=('consommation_level_2', 'max'),\n",
        "    consommation_level_2_min=('consommation_level_2', 'min'),\n",
        "\n",
        "    consommation_level_3_sum=('consommation_level_3', 'sum'),\n",
        "    consommation_level_3_mean=('consommation_level_3', 'mean'),\n",
        "    consommation_level_3_std=('consommation_level_3', 'std'),\n",
        "    consommation_level_3_max=('consommation_level_3', 'max'),\n",
        "    consommation_level_3_min=('consommation_level_3', 'min'),\n",
        "\n",
        "    consommation_level_4_sum=('consommation_level_4', 'sum'),\n",
        "    consommation_level_4_mean=('consommation_level_4', 'mean'),\n",
        "    consommation_level_4_std=('consommation_level_4', 'std'),\n",
        "    consommation_level_4_max=('consommation_level_4', 'max'),\n",
        "    consommation_level_4_min=('consommation_level_4', 'min'),\n",
        "\n",
        "    # Reading and counter statistics\n",
        "    reading_remarque_mean=('reading_remarque', 'mean'),\n",
        "    counter_statue_avg=('counter_statue', 'mean'),\n",
        "    counter_statue_mode=('counter_statue', lambda x: x.mode().iloc[0] if not x.mode().empty else np.nan),\n",
        "\n",
        "    # Transaction information\n",
        "    total_transactions=('date', 'count'),\n",
        "    avg_transactions_per_month=('date', lambda x: x.nunique() /\n",
        "                                ((x.max() - x.min()).days / 30 if (x.max() - x.min()).days != 0 else 1)),\n",
        "    transaction_period_length_days=('date', lambda x: (x.max() - x.min()).days)\n",
        ").reset_index()\n",
        "\n",
        "# Calculate the mode for categorical variables\n",
        "print(\"Calculating modes for categorical columns...\")\n",
        "mode_df = invoice_df.groupby('id').agg({\n",
        "    'tarif_type': lambda x: x.mode()[0],\n",
        "    'counter_type': lambda x: x.mode()[0],\n",
        "    'months_number': lambda x: x.mode()[0]\n",
        "}).reset_index()\n",
        "\n",
        "# Calculate the unique count for categorical variables\n",
        "print(\"Calculating unique counts for categorical variables...\")\n",
        "unique_count_df = invoice_df.groupby('id').agg({\n",
        "    'tarif_type': 'nunique',  # Unique count\n",
        "    'counter_type': 'nunique',\n",
        "    'months_number': 'nunique'\n",
        "}).reset_index()\n",
        "\n",
        "# Rename columns for clarity\n",
        "mode_df.columns = ['id', 'tarif_type_mode', 'counter_type_mode', 'months_number_mode']\n",
        "unique_count_df.columns = ['id', 'tarif_type_unique_count', 'counter_type_unique_count', 'months_number_unique_count']\n",
        "\n",
        "# Merge Aggregated, Mode, and Unique Count Data\n",
        "print(\"Merging aggregated data...\")\n",
        "\n",
        "final_aggregated_df = aggregated_df.merge(mode_df, on='id').merge(unique_count_df, on='id')\n",
        "\n",
        "# Merge with Client Data\n",
        "merged_df = pd.merge(client_df, final_aggregated_df, on='id', how='inner')\n",
        "\n",
        "# Identify categorical columns (excluding numerical and ordinal ones)\n",
        "categorical_cols = ['dis', 'catg', 'region', 'months_number_mode', 'counter_type_mode']\n",
        "\n",
        "# Apply one-hot encoding to categorical columns\n",
        "print(\"Applying one-hot encoding to categorical data...\")\n",
        "merged_df = pd.get_dummies(merged_df, columns=categorical_cols, drop_first=True)\n",
        "\n",
        "# Export Cleaned Data to CSV\n",
        "print(\"Exporting cleaned data to CSV...\")\n",
        "merged_df.to_csv('/content/drive/MyDrive/IT1244 Project/Dataset/cleaned_data.csv', index=False)\n",
        "\n",
        "# Verify the first few rows of the cleaned DataFrame\n",
        "print(\"Cleaned data preview:\")\n",
        "print(merged_df.head())"
      ]
    },
    {
      "cell_type": "markdown",
      "metadata": {
        "id": "-brwdOoFPHQp"
      },
      "source": [
        "4. Input your file dir that you stored the cleaned_data"
      ]
    },
    {
      "cell_type": "code",
      "execution_count": null,
      "metadata": {
        "id": "xpp9XBcEPGV9"
      },
      "outputs": [],
      "source": [
        "# For implementation by examiner\n",
        "# merged_df = pd.read_csv('your dir for cleaned_data')"
      ]
    },
    {
      "cell_type": "markdown",
      "metadata": {
        "id": "tPQqVgjwHpuE"
      },
      "source": [
        "5. Preparing Data for Modeling"
      ]
    },
    {
      "cell_type": "code",
      "execution_count": null,
      "metadata": {
        "id": "e0kYa_tdHtsO"
      },
      "outputs": [],
      "source": [
        "# Prepare data for modeling, dropping unnecessary columns\n",
        "X = merged_df.drop(['id', 'date', 'target'], axis=1)\n",
        "y = merged_df['target']\n",
        "\n",
        "# Standardizing the features\n",
        "scaler = StandardScaler()\n",
        "X_train, X_test, y_train, y_test = train_test_split(X, y, test_size=0.2, random_state=1244)\n",
        "X_train = scaler.fit_transform(X_train)\n",
        "X_test = scaler.transform(X_test)\n",
        "\n",
        "# Ensure X and y are NumPy arrays to avoid indexing errors\n",
        "X_train = np.array(X_train)\n",
        "y_train = np.array(y_train)"
      ]
    },
    {
      "cell_type": "markdown",
      "metadata": {
        "id": "KfN1cn4XYBNN"
      },
      "source": [
        "6. Data Balancing"
      ]
    },
    {
      "cell_type": "code",
      "execution_count": null,
      "metadata": {
        "id": "quahB5ZtYFJE",
        "colab": {
          "base_uri": "https://localhost:8080/",
          "height": 586
        },
        "outputId": "117ee238-3ba2-4828-8100-9fec8febb574"
      },
      "outputs": [
        {
          "output_type": "stream",
          "name": "stdout",
          "text": [
            "\n",
            "Imbalance Ratios for Each Method:\n",
            "original: 19.12\n",
            "SMOTE only: 1.00\n",
            "TOMEK only: 18.68\n",
            "SMOTE + TOMEK: 1.00\n",
            "SMOTEENN only: 1.33\n",
            "\n",
            "Best Resampling Method: SMOTE only with Imbalance Ratio: 1.00\n"
          ]
        },
        {
          "output_type": "display_data",
          "data": {
            "text/plain": [
              "<Figure size 1200x600 with 1 Axes>"
            ],
            "image/png": "[encoded data removed]"
          },
          "metadata": {}
        }
      ],
      "source": [
        "# Calculate Imbalance Ratio\n",
        "def calculate_imbalance_ratio(y):\n",
        "    \"\"\"Calculate the imbalance ratio (majority/minority).\"\"\"\n",
        "    classes, counts = np.unique(y, return_counts=True)\n",
        "    imbalance_ratio = max(counts) / min(counts)\n",
        "    return imbalance_ratio\n",
        "\n",
        "# Plot Class Distribution\n",
        "def plot_comparison_bar_chart(distributions):\n",
        "    \"\"\"Plot a bar chart comparing fraud and non-fraud cases for multiple resampling methods.\"\"\"\n",
        "    plt.figure(figsize=(12, 6))\n",
        "\n",
        "    # Extract data for plotting\n",
        "    datasets = list(distributions.keys())\n",
        "    counts_non_fraud = [dist[0] for dist in distributions.values()]\n",
        "    counts_fraud = [dist[1] for dist in distributions.values()]\n",
        "\n",
        "    # Plot bars for non-fraud and fraud cases\n",
        "    bar_width = 0.35\n",
        "    indices = np.arange(len(datasets))\n",
        "\n",
        "    plt.bar(indices - bar_width/2, counts_non_fraud, width=bar_width, label='non-fraud', color='skyblue')\n",
        "    plt.bar(indices + bar_width/2, counts_fraud, width=bar_width, label='fraud', color='orange')\n",
        "\n",
        "    # Add labels, title, and legend\n",
        "    plt.xlabel('Dataset')\n",
        "    plt.ylabel('Count')\n",
        "    plt.title('Comparison of fraud and non-fraud cases across resampling methods')\n",
        "    plt.xticks(indices, datasets, rotation=45, ha='right')\n",
        "    plt.legend()\n",
        "\n",
        "    # Display counts on top of bars\n",
        "    for i, (count_non_fraud, count_fraud) in enumerate(zip(counts_non_fraud, counts_fraud)):\n",
        "        plt.text(i - bar_width/2, count_non_fraud + 200, str(count_non_fraud), ha='center', va='bottom')\n",
        "        plt.text(i + bar_width/2, count_fraud + 200, str(count_fraud), ha='center', va='bottom')\n",
        "\n",
        "    plt.tight_layout()\n",
        "    plt.show()\n",
        "\n",
        "# Apply All Possible Combinations of Resampling Methods\n",
        "def compare_all_resampling_methods(X, y):\n",
        "    \"\"\"Apply all possible combinations of SMOTE, Tomek Links, and SMOTEENN.\"\"\"\n",
        "    distributions = {}\n",
        "    imbalance_ratios = {}\n",
        "\n",
        "    # Original dataset\n",
        "    classes, counts = np.unique(y, return_counts=True)\n",
        "    distributions['original'] = counts\n",
        "    imbalance_ratios['original'] = calculate_imbalance_ratio(y)\n",
        "\n",
        "    # SMOTE only\n",
        "    smote = SMOTE(random_state=1244)\n",
        "    X_smote, y_smote = smote.fit_resample(X, y)\n",
        "    classes, counts = np.unique(y_smote, return_counts=True)\n",
        "    distributions['SMOTE only'] = counts\n",
        "    imbalance_ratios['SMOTE only'] = calculate_imbalance_ratio(y_smote)\n",
        "\n",
        "    # Tomek Links only\n",
        "    tomek = TomekLinks()\n",
        "    X_tomek, y_tomek = TomekLinks(sampling_strategy='majority').fit_resample(X, y)\n",
        "    classes, counts = np.unique(y_tomek, return_counts=True)\n",
        "    distributions['TOMEK only'] = counts\n",
        "    imbalance_ratios['TOMEK only'] = calculate_imbalance_ratio(y_tomek)\n",
        "\n",
        "    # SMOTE + Tomek Links\n",
        "    X_smote_tomek, y_smote_tomek = SMOTETomek(random_state=1244).fit_resample(X, y)\n",
        "    classes, counts = np.unique(y_smote_tomek, return_counts=True)\n",
        "    distributions['SMOTE + TOMEK'] = counts\n",
        "    imbalance_ratios['SMOTE + TOMEK'] = calculate_imbalance_ratio(y_smote_tomek)\n",
        "\n",
        "    # SMOTEENN only\n",
        "    smoteenn = SMOTEENN(sampling_strategy='auto', random_state=1244)\n",
        "    X_smoteenn, y_smoteenn = smoteenn.fit_resample(X, y)\n",
        "    classes, counts = np.unique(y_smoteenn, return_counts=True)\n",
        "    distributions['SMOTEENN only'] = counts\n",
        "    imbalance_ratios['SMOTEENN only'] = calculate_imbalance_ratio(y_smoteenn)\n",
        "\n",
        "    return distributions, imbalance_ratios\n",
        "\n",
        "# Run the Comparison and Plot the Results\n",
        "distributions, imbalance_ratios = compare_all_resampling_methods(X, y)\n",
        "\n",
        "# Print all imbalance ratios\n",
        "print(\"\\nImbalance Ratios for Each Method:\")\n",
        "for method, ratio in imbalance_ratios.items():\n",
        "    print(f\"{method}: {ratio:.2f}\")\n",
        "\n",
        "# Find and print the best method with the lowest imbalance ratio\n",
        "best_method = min(imbalance_ratios, key=imbalance_ratios.get)\n",
        "print(f\"\\nBest Resampling Method: {best_method} with Imbalance Ratio: {imbalance_ratios[best_method]:.2f}\")\n",
        "\n",
        "# Plot the class distribution bar chart\n",
        "plot_comparison_bar_chart(distributions)"
      ]
    },
    {
      "cell_type": "code",
      "execution_count": null,
      "metadata": {
        "id": "gln-wYQ3CPr6",
        "colab": {
          "base_uri": "https://localhost:8080/"
        },
        "outputId": "ee502cb9-f59a-49a6-fe57-d612f13f8c7a"
      },
      "outputs": [
        {
          "output_type": "stream",
          "name": "stdout",
          "text": [
            "After smoteenn resampling: X shape = (28515, 81), y shape = (28515,)\n",
            "After smotetomek resampling: X shape = (32832, 81), y shape = (32832,)\n"
          ]
        }
      ],
      "source": [
        "# Balancing method\n",
        "def apply_balancing(X_train, y_train, method='smoteenn'):\n",
        "    \"\"\"Apply data balancing techniques to the training data.\"\"\"\n",
        "    if method == 'smote':\n",
        "        X_res, y_res = SMOTE(random_state=1244).fit_resample(X_train, y_train)\n",
        "    elif method == 'tomek':\n",
        "        X_res, y_res = TomekLinks(sampling_strategy='majority').fit_resample(X_train, y_train)\n",
        "    elif method == 'smoteenn':\n",
        "        X_res, y_res = SMOTEENN(sampling_strategy='auto', random_state=1244).fit_resample(X_train, y_train)\n",
        "    elif method == 'smotetomek':\n",
        "        X_res, y_res = SMOTETomek(random_state=1244).fit_resample(X_train, y_train)\n",
        "\n",
        "    # Reset the indices to avoid KeyErrors during future operations\n",
        "    X_res = np.array(X_res)\n",
        "    y_res = np.array(y_res)\n",
        "\n",
        "    # Print the shapes for verification\n",
        "    print(f\"After {method} resampling: X shape = {X_res.shape}, y shape = {y_res.shape}\")\n",
        "\n",
        "    return X_res, y_res\n",
        "\n",
        "# Balancing X_train and y_train for final model training\n",
        "X_SMOTEENN, y_SMOTEENN = apply_balancing(X_train, y_train, method='smoteenn')\n",
        "X_SMOTETOMEK, y_SMOTETOMEK = apply_balancing(X_train, y_train, method='smotetomek')"
      ]
    },
    {
      "cell_type": "markdown",
      "metadata": {
        "id": "XwYGcJSzIah2"
      },
      "source": [
        "7. Modelling using K-Nearest Neighbours Classifier, Logistical Regression and Random Forest Classifier"
      ]
    },
    {
      "cell_type": "markdown",
      "source": [
        "a. Result Storing"
      ],
      "metadata": {
        "id": "omwmu_AwHHLP"
      }
    },
    {
      "cell_type": "code",
      "source": [
        "# Placeholder to store metrics for comparison\n",
        "results = {\n",
        "    'SMOTEENN': {},\n",
        "    'SMOTETOMEK': {}\n",
        "}\n",
        "\n",
        "pr_curves = {  # Store PR curve data for all datasets and models\n",
        "    'SMOTEENN': {},\n",
        "    'SMOTETOMEK': {}\n",
        "}\n",
        "\n",
        "best_params_store = {}  # Store best hyperparameters for future usage\n"
      ],
      "metadata": {
        "id": "b-CJ9nQfG8PS"
      },
      "execution_count": null,
      "outputs": []
    },
    {
      "cell_type": "markdown",
      "metadata": {
        "id": "fthvdKPXRRoG"
      },
      "source": [
        "b. Hyperparameter Grid"
      ]
    },
    {
      "cell_type": "code",
      "execution_count": null,
      "metadata": {
        "id": "bgKhKdpR_1Ko"
      },
      "outputs": [],
      "source": [
        "# Define F2 scorer\n",
        "f2_scorer = make_scorer(fbeta_score, beta=2)\n",
        "\n",
        "# Parameter grids\n",
        "knn_param_grid = {\n",
        "    'n_neighbors': [i for i in range(21, 148, 2)],\n",
        "    'weights': ['uniform', 'distance'],\n",
        "    'metric': ['euclidean', 'manhattan'],\n",
        "    'algorithm': ['auto', 'kd_tree'],\n",
        "    'leaf_size': [10, 30]\n",
        "}\n",
        "\n",
        "# Define parameter grid with valid combinations\n",
        "logistic_regression_param_grid = [\n",
        "    {  # For 'liblinear' solver\n",
        "        'solver': ['liblinear'],\n",
        "        'penalty': ['l1', 'l2'],\n",
        "        'C': [0.01, 0.1, 1, 10],\n",
        "        'class_weight': ['balanced'],\n",
        "        'max_iter': [100, 500],\n",
        "        'fit_intercept': [True],\n",
        "        'tol': [1e-4, 1e-3]\n",
        "    },\n",
        "    {  # For 'saga' solver with elasticnet\n",
        "        'solver': ['saga'],\n",
        "        'penalty': ['elasticnet'],\n",
        "        'C': [0.1, 1, 10],\n",
        "        'class_weight': ['balanced'],\n",
        "        'max_iter': [500],\n",
        "        'fit_intercept': [True],\n",
        "        'tol': [1e-4],\n",
        "        'l1_ratio': [0.1, 0.5, 0.9]\n",
        "    },\n",
        "    {  # For 'saga' solver with l1 or l2 penalties\n",
        "        'solver': ['saga'],\n",
        "        'penalty': ['l1', 'l2'],\n",
        "        'C': [0.1, 1, 10],\n",
        "        'class_weight': ['balanced'],\n",
        "        'max_iter': [500],\n",
        "        'fit_intercept': [True],\n",
        "        'tol': [1e-4]\n",
        "    }\n",
        "]\n",
        "\n",
        "random_forest_param_grid = {\n",
        "    'n_estimators': [50, 100],\n",
        "    'max_depth': [10, 15],\n",
        "    'min_samples_split': [5, 10],\n",
        "    'min_samples_leaf': [2, 4],\n",
        "    'max_features': ['sqrt', 'log2'],\n",
        "    'bootstrap': [True],\n",
        "    'criterion': ['gini'],\n",
        "    'class_weight': ['balanced']\n",
        "}"
      ]
    },
    {
      "cell_type": "markdown",
      "source": [
        "c. Threshold Optimization"
      ],
      "metadata": {
        "id": "_-EmcR6OFl57"
      }
    },
    {
      "cell_type": "code",
      "source": [
        "def find_optimal_threshold_for_f2(y_true, y_prob):\n",
        "    \"\"\"Find the optimal threshold from the Precision-Recall Curve to maximize F2 score.\"\"\"\n",
        "    precision, recall, thresholds = precision_recall_curve(y_true, y_prob)\n",
        "\n",
        "    # Safely calculate F2 scores by handling division-by-zero cases\n",
        "    with np.errstate(divide='ignore', invalid='ignore'):\n",
        "        f2_scores = np.where(\n",
        "            (precision + recall) == 0,\n",
        "            0,  # Avoid division by zero\n",
        "            (5 * precision * recall) / (4 * precision + recall)\n",
        "        )\n",
        "\n",
        "    optimal_idx = np.argmax(f2_scores)  # Index of the highest F2 score\n",
        "    optimal_threshold = thresholds[optimal_idx] if len(thresholds) > 0 else 0.5  # Default to 0.5 if no thresholds\n",
        "\n",
        "    return optimal_threshold"
      ],
      "metadata": {
        "id": "oqoy0ytvFlbe"
      },
      "execution_count": null,
      "outputs": []
    },
    {
      "cell_type": "markdown",
      "metadata": {
        "id": "FuFJll-dfwvJ"
      },
      "source": [
        "d. Model Training and Evaluation"
      ]
    },
    {
      "cell_type": "code",
      "execution_count": null,
      "metadata": {
        "collapsed": true,
        "id": "P7-HIwRGIaBU",
        "colab": {
          "base_uri": "https://localhost:8080/"
        },
        "outputId": "b23bf2dd-0c49-4ac8-da79-4e38c8e87873"
      },
      "outputs": [
        {
          "output_type": "stream",
          "name": "stdout",
          "text": [
            "Evaluating KNN on SMOTEENN...\n",
            "\n",
            "Training KNN on SMOTEENN using RandomizedSearchCV...\n",
            "\n",
            "Fitting 3 folds for each of 5 candidates, totalling 15 fits\n",
            "Best hyperparameters for KNN on SMOTEENN: {'weights': 'uniform', 'n_neighbors': 65, 'metric': 'manhattan', 'leaf_size': 30, 'algorithm': 'kd_tree'}\n",
            "\n",
            "Processing Fold 1...\n",
            "\n",
            "After smoteenn resampling: X shape = (18944, 81), y shape = (18944,)\n",
            "Optimal Threshold for Fold 1: 0.55\n",
            "Confusion Matrix for Fold 1:\n",
            "[[3323 2161]\n",
            " [  84  206]]\n",
            "\n",
            "Processing Fold 2...\n",
            "\n",
            "After smoteenn resampling: X shape = (19115, 81), y shape = (19115,)\n",
            "Optimal Threshold for Fold 2: 0.51\n",
            "Confusion Matrix for Fold 2:\n",
            "[[3286 2198]\n",
            " [  92  198]]\n",
            "\n",
            "Processing Fold 3...\n",
            "\n",
            "After smoteenn resampling: X shape = (19020, 81), y shape = (19020,)\n",
            "Optimal Threshold for Fold 3: 0.65\n",
            "Confusion Matrix for Fold 3:\n",
            "[[3815 1668]\n",
            " [ 108  182]]\n",
            "\n",
            "KNN on SMOTEENN:\n",
            "F1 Score: 0.16\n",
            "F2 Score: 0.29\n",
            "Precision: 0.09\n",
            "Recall: 0.67\n",
            "PR AUC: 0.12\n",
            "\n",
            "Evaluating Logistic_Regression on SMOTEENN...\n",
            "\n",
            "Training Logistic_Regression on SMOTEENN using RandomizedSearchCV...\n",
            "\n",
            "Fitting 3 folds for each of 5 candidates, totalling 15 fits\n"
          ]
        },
        {
          "output_type": "stream",
          "name": "stderr",
          "text": [
            "/usr/local/lib/python3.10/dist-packages/sklearn/linear_model/_sag.py:349: ConvergenceWarning: The max_iter was reached which means the coef_ did not converge\n",
            "  warnings.warn(\n"
          ]
        },
        {
          "output_type": "stream",
          "name": "stdout",
          "text": [
            "Best hyperparameters for Logistic_Regression on SMOTEENN: {'tol': 0.0001, 'solver': 'saga', 'penalty': 'elasticnet', 'max_iter': 500, 'l1_ratio': 0.1, 'fit_intercept': True, 'class_weight': 'balanced', 'C': 0.1}\n",
            "\n",
            "Processing Fold 1...\n",
            "\n",
            "After smoteenn resampling: X shape = (18944, 81), y shape = (18944,)\n"
          ]
        },
        {
          "output_type": "stream",
          "name": "stderr",
          "text": [
            "/usr/local/lib/python3.10/dist-packages/sklearn/linear_model/_sag.py:349: ConvergenceWarning: The max_iter was reached which means the coef_ did not converge\n",
            "  warnings.warn(\n"
          ]
        },
        {
          "output_type": "stream",
          "name": "stdout",
          "text": [
            "Optimal Threshold for Fold 1: 0.65\n",
            "Confusion Matrix for Fold 1:\n",
            "[[4277 1207]\n",
            " [ 132  158]]\n",
            "\n",
            "Processing Fold 2...\n",
            "\n",
            "After smoteenn resampling: X shape = (19115, 81), y shape = (19115,)\n"
          ]
        },
        {
          "output_type": "stream",
          "name": "stderr",
          "text": [
            "/usr/local/lib/python3.10/dist-packages/sklearn/linear_model/_sag.py:349: ConvergenceWarning: The max_iter was reached which means the coef_ did not converge\n",
            "  warnings.warn(\n"
          ]
        },
        {
          "output_type": "stream",
          "name": "stdout",
          "text": [
            "Optimal Threshold for Fold 2: 0.53\n",
            "Confusion Matrix for Fold 2:\n",
            "[[3635 1849]\n",
            " [  99  191]]\n",
            "\n",
            "Processing Fold 3...\n",
            "\n",
            "After smoteenn resampling: X shape = (19020, 81), y shape = (19020,)\n"
          ]
        },
        {
          "output_type": "stream",
          "name": "stderr",
          "text": [
            "/usr/local/lib/python3.10/dist-packages/sklearn/linear_model/_sag.py:349: ConvergenceWarning: The max_iter was reached which means the coef_ did not converge\n",
            "  warnings.warn(\n"
          ]
        },
        {
          "output_type": "stream",
          "name": "stdout",
          "text": [
            "Optimal Threshold for Fold 3: 0.59\n",
            "Confusion Matrix for Fold 3:\n",
            "[[3919 1564]\n",
            " [ 103  187]]\n",
            "\n",
            "Logistic_Regression on SMOTEENN:\n",
            "F1 Score: 0.18\n",
            "F2 Score: 0.31\n",
            "Precision: 0.11\n",
            "Recall: 0.62\n",
            "PR AUC: 0.12\n",
            "\n",
            "Evaluating Random_Forest on SMOTEENN...\n",
            "\n",
            "Training Random_Forest on SMOTEENN using RandomizedSearchCV...\n",
            "\n",
            "Fitting 3 folds for each of 5 candidates, totalling 15 fits\n",
            "Best hyperparameters for Random_Forest on SMOTEENN: {'n_estimators': 100, 'min_samples_split': 10, 'min_samples_leaf': 4, 'max_features': 'log2', 'max_depth': 10, 'criterion': 'gini', 'class_weight': 'balanced', 'bootstrap': True}\n",
            "\n",
            "Processing Fold 1...\n",
            "\n",
            "After smoteenn resampling: X shape = (18944, 81), y shape = (18944,)\n",
            "Optimal Threshold for Fold 1: 0.38\n",
            "Confusion Matrix for Fold 1:\n",
            "[[3568 1916]\n",
            " [  74  216]]\n",
            "\n",
            "Processing Fold 2...\n",
            "\n",
            "After smoteenn resampling: X shape = (19115, 81), y shape = (19115,)\n",
            "Optimal Threshold for Fold 2: 0.36\n",
            "Confusion Matrix for Fold 2:\n",
            "[[3556 1928]\n",
            " [  88  202]]\n",
            "\n",
            "Processing Fold 3...\n",
            "\n",
            "After smoteenn resampling: X shape = (19020, 81), y shape = (19020,)\n",
            "Optimal Threshold for Fold 3: 0.43\n",
            "Confusion Matrix for Fold 3:\n",
            "[[3732 1751]\n",
            " [  93  197]]\n",
            "\n",
            "Random_Forest on SMOTEENN:\n",
            "F1 Score: 0.17\n",
            "F2 Score: 0.32\n",
            "Precision: 0.10\n",
            "Recall: 0.71\n",
            "PR AUC: 0.12\n",
            "\n",
            "Evaluating KNN on SMOTETOMEK...\n",
            "\n",
            "Training KNN on SMOTETOMEK using RandomizedSearchCV...\n",
            "\n",
            "Fitting 3 folds for each of 5 candidates, totalling 15 fits\n",
            "Best hyperparameters for KNN on SMOTETOMEK: {'weights': 'uniform', 'n_neighbors': 65, 'metric': 'manhattan', 'leaf_size': 30, 'algorithm': 'kd_tree'}\n",
            "\n",
            "Processing Fold 1...\n",
            "\n",
            "After smotetomek resampling: X shape = (21888, 81), y shape = (21888,)\n",
            "Optimal Threshold for Fold 1: 0.48\n",
            "Confusion Matrix for Fold 1:\n",
            "[[3427 2057]\n",
            " [  87  203]]\n",
            "\n",
            "Processing Fold 2...\n",
            "\n",
            "After smotetomek resampling: X shape = (21890, 81), y shape = (21890,)\n",
            "Optimal Threshold for Fold 2: 0.54\n",
            "Confusion Matrix for Fold 2:\n",
            "[[3886 1598]\n",
            " [ 128  162]]\n",
            "\n",
            "Processing Fold 3...\n",
            "\n",
            "After smotetomek resampling: X shape = (21894, 81), y shape = (21894,)\n",
            "Optimal Threshold for Fold 3: 0.54\n",
            "Confusion Matrix for Fold 3:\n",
            "[[3768 1715]\n",
            " [ 110  180]]\n",
            "\n",
            "KNN on SMOTETOMEK:\n",
            "F1 Score: 0.16\n",
            "F2 Score: 0.29\n",
            "Precision: 0.09\n",
            "Recall: 0.63\n",
            "PR AUC: 0.10\n",
            "\n",
            "Evaluating Logistic_Regression on SMOTETOMEK...\n",
            "\n",
            "Training Logistic_Regression on SMOTETOMEK using RandomizedSearchCV...\n",
            "\n",
            "Fitting 3 folds for each of 5 candidates, totalling 15 fits\n"
          ]
        },
        {
          "output_type": "stream",
          "name": "stderr",
          "text": [
            "/usr/local/lib/python3.10/dist-packages/sklearn/linear_model/_sag.py:349: ConvergenceWarning: The max_iter was reached which means the coef_ did not converge\n",
            "  warnings.warn(\n"
          ]
        },
        {
          "output_type": "stream",
          "name": "stdout",
          "text": [
            "Best hyperparameters for Logistic_Regression on SMOTETOMEK: {'tol': 0.0001, 'solver': 'saga', 'penalty': 'elasticnet', 'max_iter': 500, 'l1_ratio': 0.1, 'fit_intercept': True, 'class_weight': 'balanced', 'C': 0.1}\n",
            "\n",
            "Processing Fold 1...\n",
            "\n",
            "After smotetomek resampling: X shape = (21888, 81), y shape = (21888,)\n"
          ]
        },
        {
          "output_type": "stream",
          "name": "stderr",
          "text": [
            "/usr/local/lib/python3.10/dist-packages/sklearn/linear_model/_sag.py:349: ConvergenceWarning: The max_iter was reached which means the coef_ did not converge\n",
            "  warnings.warn(\n"
          ]
        },
        {
          "output_type": "stream",
          "name": "stdout",
          "text": [
            "Optimal Threshold for Fold 1: 0.59\n",
            "Confusion Matrix for Fold 1:\n",
            "[[4166 1318]\n",
            " [ 128  162]]\n",
            "\n",
            "Processing Fold 2...\n",
            "\n",
            "After smotetomek resampling: X shape = (21890, 81), y shape = (21890,)\n"
          ]
        },
        {
          "output_type": "stream",
          "name": "stderr",
          "text": [
            "/usr/local/lib/python3.10/dist-packages/sklearn/linear_model/_sag.py:349: ConvergenceWarning: The max_iter was reached which means the coef_ did not converge\n",
            "  warnings.warn(\n"
          ]
        },
        {
          "output_type": "stream",
          "name": "stdout",
          "text": [
            "Optimal Threshold for Fold 2: 0.51\n",
            "Confusion Matrix for Fold 2:\n",
            "[[3681 1803]\n",
            " [ 100  190]]\n",
            "\n",
            "Processing Fold 3...\n",
            "\n",
            "After smotetomek resampling: X shape = (21894, 81), y shape = (21894,)\n"
          ]
        },
        {
          "output_type": "stream",
          "name": "stderr",
          "text": [
            "/usr/local/lib/python3.10/dist-packages/sklearn/linear_model/_sag.py:349: ConvergenceWarning: The max_iter was reached which means the coef_ did not converge\n",
            "  warnings.warn(\n"
          ]
        },
        {
          "output_type": "stream",
          "name": "stdout",
          "text": [
            "Optimal Threshold for Fold 3: 0.53\n",
            "Confusion Matrix for Fold 3:\n",
            "[[3741 1742]\n",
            " [  97  193]]\n",
            "\n",
            "Logistic_Regression on SMOTETOMEK:\n",
            "F1 Score: 0.17\n",
            "F2 Score: 0.31\n",
            "Precision: 0.10\n",
            "Recall: 0.63\n",
            "PR AUC: 0.12\n",
            "\n",
            "Evaluating Random_Forest on SMOTETOMEK...\n",
            "\n",
            "Training Random_Forest on SMOTETOMEK using RandomizedSearchCV...\n",
            "\n",
            "Fitting 3 folds for each of 5 candidates, totalling 15 fits\n",
            "Best hyperparameters for Random_Forest on SMOTETOMEK: {'n_estimators': 100, 'min_samples_split': 10, 'min_samples_leaf': 4, 'max_features': 'log2', 'max_depth': 10, 'criterion': 'gini', 'class_weight': 'balanced', 'bootstrap': True}\n",
            "\n",
            "Processing Fold 1...\n",
            "\n",
            "After smotetomek resampling: X shape = (21888, 81), y shape = (21888,)\n",
            "Optimal Threshold for Fold 1: 0.36\n",
            "Confusion Matrix for Fold 1:\n",
            "[[3537 1947]\n",
            " [  79  211]]\n",
            "\n",
            "Processing Fold 2...\n",
            "\n",
            "After smotetomek resampling: X shape = (21890, 81), y shape = (21890,)\n",
            "Optimal Threshold for Fold 2: 0.39\n",
            "Confusion Matrix for Fold 2:\n",
            "[[3715 1769]\n",
            " [  99  191]]\n",
            "\n",
            "Processing Fold 3...\n",
            "\n",
            "After smotetomek resampling: X shape = (21894, 81), y shape = (21894,)\n",
            "Optimal Threshold for Fold 3: 0.39\n",
            "Confusion Matrix for Fold 3:\n",
            "[[3688 1795]\n",
            " [  89  201]]\n",
            "\n",
            "Random_Forest on SMOTETOMEK:\n",
            "F1 Score: 0.17\n",
            "F2 Score: 0.31\n",
            "Precision: 0.10\n",
            "Recall: 0.69\n",
            "PR AUC: 0.12\n",
            "\n"
          ]
        }
      ],
      "source": [
        "def evaluate_with_cv(model, param_grid, X, y, model_name, dataset_name):\n",
        "    \"\"\"Evaluate model using cross-validation with per-fold SMOTEENN balancing.\"\"\"\n",
        "\n",
        "    print(f\"Training {model_name} on {dataset_name} using RandomizedSearchCV...\\n\")\n",
        "\n",
        "    skf = StratifiedKFold(n_splits=3, shuffle=True, random_state=1244)\n",
        "\n",
        "    # Use RandomizedSearchCV for hyperparameter optimization\n",
        "    random_search = RandomizedSearchCV(\n",
        "        model, param_distributions=param_grid, n_iter=5,\n",
        "        scoring=f2_scorer, cv=skf, verbose=1, n_jobs=-1,\n",
        "        random_state=1244\n",
        "    )\n",
        "    random_search.fit(X, y)\n",
        "    best_model = random_search.best_estimator_\n",
        "    best_params = random_search.best_params_\n",
        "\n",
        "    # Ensure the correct storage of best hyperparameters\n",
        "    if model_name not in best_params_store:\n",
        "        best_params_store[model_name] = {}\n",
        "    best_params_store[model_name][dataset_name] = best_params\n",
        "\n",
        "    print(f\"Best hyperparameters for {model_name} on {dataset_name}: {best_params}\\n\")\n",
        "\n",
        "    fold_metrics = []\n",
        "\n",
        "    for fold_idx, (train_idx, val_idx) in enumerate(skf.split(X, y)):\n",
        "        print(f\"Processing Fold {fold_idx + 1}...\\n\")\n",
        "\n",
        "        # Extract train/validation sets and reset indices\n",
        "        X_fold_train, X_fold_val = X[train_idx], X[val_idx]\n",
        "        y_fold_train, y_fold_val = y[train_idx], y[val_idx]\n",
        "\n",
        "        # Apply SMOTEENN only to the training data\n",
        "        X_resampled, y_resampled = apply_balancing(X_fold_train, y_fold_train, method=dataset_name.lower())\n",
        "\n",
        "        # Train the model on resampled data\n",
        "        best_model.fit(X_resampled, y_resampled)\n",
        "\n",
        "        # Predict probabilities on the validation set\n",
        "        y_prob = best_model.predict_proba(X_fold_val)[:, 1]\n",
        "\n",
        "        # Find the optimal threshold for F2 score\n",
        "        optimal_threshold = find_optimal_threshold_for_f2(y_fold_val, y_prob)\n",
        "        print(f\"Optimal Threshold for Fold {fold_idx + 1}: {optimal_threshold:.2f}\")\n",
        "\n",
        "        # Make predictions using the optimized threshold\n",
        "        y_pred = (y_prob >= optimal_threshold).astype(int)\n",
        "\n",
        "        # Display the confusion matrix for this fold\n",
        "        cm = confusion_matrix(y_fold_val, y_pred)\n",
        "        print(f\"Confusion Matrix for Fold {fold_idx + 1}:\\n{cm}\\n\")\n",
        "\n",
        "        # Calculate and store metrics for the fold\n",
        "        f1 = f1_score(y_fold_val, y_pred)\n",
        "        f2 = fbeta_score(y_fold_val, y_pred, beta=2)\n",
        "        precision = precision_score(y_fold_val, y_pred)\n",
        "        recall = recall_score(y_fold_val, y_pred)\n",
        "        pr_precision, pr_recall, _ = precision_recall_curve(y_fold_val, y_prob)\n",
        "        pr_auc = sklearn_auc(pr_recall, pr_precision)\n",
        "\n",
        "        fold_metrics.append((f1, f2, precision, recall, pr_auc))\n",
        "\n",
        "    # Aggregate metrics across folds\n",
        "    f1_avg, f2_avg, precision_avg, recall_avg, pr_auc_avg = np.mean(fold_metrics, axis=0)\n",
        "\n",
        "    results[dataset_name][model_name] = {\n",
        "        'f1': f1_avg, 'f2': f2_avg,\n",
        "        'precision': precision_avg, 'recall': recall_avg,\n",
        "        'pr_auc': pr_auc_avg\n",
        "    }\n",
        "    pr_curves[dataset_name][model_name] = {\n",
        "        'precision': pr_precision, 'recall': pr_recall, 'pr_auc': pr_auc_avg\n",
        "    }\n",
        "\n",
        "    print(f\"{model_name} on {dataset_name}:\\n\"\n",
        "          f\"F1 Score: {f1_avg:.2f}\\nF2 Score: {f2_avg:.2f}\\n\"\n",
        "          f\"Precision: {precision_avg:.2f}\\nRecall: {recall_avg:.2f}\\n\"\n",
        "          f\"PR AUC: {pr_auc_avg:.2f}\\n\")\n",
        "\n",
        "def evaluate_on_balanced_data_cv(X, y, dataset_name):\n",
        "    \"\"\"Evaluate models using cross-validation with per-fold SMOTEENN balancing.\"\"\"\n",
        "    models = {\n",
        "        'KNN': KNeighborsClassifier(),\n",
        "        'Logistic_Regression': LogisticRegression(max_iter=1000),\n",
        "        'Random_Forest': RandomForestClassifier(random_state=1244)\n",
        "    }\n",
        "    param_grids = {\n",
        "        'KNN': knn_param_grid,\n",
        "        'Logistic_Regression': logistic_regression_param_grid,\n",
        "        'Random_Forest': random_forest_param_grid\n",
        "    }\n",
        "\n",
        "    for name, model in models.items():\n",
        "        print(f\"Evaluating {name} on {dataset_name}...\\n\")\n",
        "        evaluate_with_cv(model, param_grids[name], X, y, name, dataset_name)\n",
        "\n",
        "# Ensure X and y are NumPy arrays\n",
        "X_train = np.array(X_train)\n",
        "y_train = np.array(y_train)\n",
        "\n",
        "# Evaluate models on the dataset\n",
        "evaluate_on_balanced_data_cv(X_train, y_train, 'SMOTEENN')\n",
        "evaluate_on_balanced_data_cv(X_train, y_train, 'SMOTETOMEK')"
      ]
    },
    {
      "cell_type": "markdown",
      "metadata": {
        "id": "We3-ZMaZcX98"
      },
      "source": [
        "8. Deep Learning Model (Feedforward Neural Network (FNN), also known as a Dense Neural Network)"
      ]
    },
    {
      "cell_type": "code",
      "execution_count": null,
      "metadata": {
        "collapsed": true,
        "id": "_1qjvxS8clrt",
        "colab": {
          "base_uri": "https://localhost:8080/"
        },
        "outputId": "2f8dc15f-4684-4522-e5a4-65a3dd9e9fc5"
      },
      "outputs": [
        {
          "output_type": "stream",
          "name": "stdout",
          "text": [
            "Evaluating FNN on SMOTEENN with best configuration...\n",
            "\n",
            "After smoteenn resampling: X shape = (28515, 81), y shape = (28515,)\n"
          ]
        },
        {
          "output_type": "stream",
          "name": "stderr",
          "text": [
            "/usr/local/lib/python3.10/dist-packages/keras/src/layers/core/dense.py:87: UserWarning: Do not pass an `input_shape`/`input_dim` argument to a layer. When using Sequential models, prefer using an `Input(shape)` object as the first layer in the model instead.\n",
            "  super().__init__(activity_regularizer=activity_regularizer, **kwargs)\n"
          ]
        },
        {
          "output_type": "stream",
          "name": "stdout",
          "text": [
            "\u001b[1m892/892\u001b[0m \u001b[32m━━━━━━━━━━━━━━━━━━━━\u001b[0m\u001b[37m\u001b[0m \u001b[1m2s\u001b[0m 2ms/step\n",
            "After smoteenn resampling: X shape = (28515, 81), y shape = (28515,)\n"
          ]
        },
        {
          "output_type": "stream",
          "name": "stderr",
          "text": [
            "/usr/local/lib/python3.10/dist-packages/keras/src/layers/core/dense.py:87: UserWarning: Do not pass an `input_shape`/`input_dim` argument to a layer. When using Sequential models, prefer using an `Input(shape)` object as the first layer in the model instead.\n",
            "  super().__init__(activity_regularizer=activity_regularizer, **kwargs)\n"
          ]
        },
        {
          "output_type": "stream",
          "name": "stdout",
          "text": [
            "\u001b[1m892/892\u001b[0m \u001b[32m━━━━━━━━━━━━━━━━━━━━\u001b[0m\u001b[37m\u001b[0m \u001b[1m1s\u001b[0m 1ms/step\n",
            "After smoteenn resampling: X shape = (28515, 81), y shape = (28515,)\n"
          ]
        },
        {
          "output_type": "stream",
          "name": "stderr",
          "text": [
            "/usr/local/lib/python3.10/dist-packages/keras/src/layers/core/dense.py:87: UserWarning: Do not pass an `input_shape`/`input_dim` argument to a layer. When using Sequential models, prefer using an `Input(shape)` object as the first layer in the model instead.\n",
            "  super().__init__(activity_regularizer=activity_regularizer, **kwargs)\n"
          ]
        },
        {
          "output_type": "stream",
          "name": "stdout",
          "text": [
            "\u001b[1m892/892\u001b[0m \u001b[32m━━━━━━━━━━━━━━━━━━━━\u001b[0m\u001b[37m\u001b[0m \u001b[1m1s\u001b[0m 1ms/step\n",
            "After smoteenn resampling: X shape = (28515, 81), y shape = (28515,)\n"
          ]
        },
        {
          "output_type": "stream",
          "name": "stderr",
          "text": [
            "/usr/local/lib/python3.10/dist-packages/keras/src/layers/core/dense.py:87: UserWarning: Do not pass an `input_shape`/`input_dim` argument to a layer. When using Sequential models, prefer using an `Input(shape)` object as the first layer in the model instead.\n",
            "  super().__init__(activity_regularizer=activity_regularizer, **kwargs)\n"
          ]
        },
        {
          "output_type": "stream",
          "name": "stdout",
          "text": [
            "\u001b[1m892/892\u001b[0m \u001b[32m━━━━━━━━━━━━━━━━━━━━\u001b[0m\u001b[37m\u001b[0m \u001b[1m1s\u001b[0m 1ms/step\n",
            "After smoteenn resampling: X shape = (28515, 81), y shape = (28515,)\n"
          ]
        },
        {
          "output_type": "stream",
          "name": "stderr",
          "text": [
            "/usr/local/lib/python3.10/dist-packages/keras/src/layers/core/dense.py:87: UserWarning: Do not pass an `input_shape`/`input_dim` argument to a layer. When using Sequential models, prefer using an `Input(shape)` object as the first layer in the model instead.\n",
            "  super().__init__(activity_regularizer=activity_regularizer, **kwargs)\n"
          ]
        },
        {
          "output_type": "stream",
          "name": "stdout",
          "text": [
            "\u001b[1m892/892\u001b[0m \u001b[32m━━━━━━━━━━━━━━━━━━━━\u001b[0m\u001b[37m\u001b[0m \u001b[1m1s\u001b[0m 1ms/step\n",
            "\n",
            "Best FNN Configuration for SMOTEENN: {'optimizer': 'rmsprop', 'learning_rate': 0.01, 'dropout_rate': 0.2, 'epochs': 20, 'batch_size': 16}\n",
            "Processing Fold 1...\n",
            "\n",
            "After smoteenn resampling: X shape = (18944, 81), y shape = (18944,)\n"
          ]
        },
        {
          "output_type": "stream",
          "name": "stderr",
          "text": [
            "/usr/local/lib/python3.10/dist-packages/keras/src/layers/core/dense.py:87: UserWarning: Do not pass an `input_shape`/`input_dim` argument to a layer. When using Sequential models, prefer using an `Input(shape)` object as the first layer in the model instead.\n",
            "  super().__init__(activity_regularizer=activity_regularizer, **kwargs)\n"
          ]
        },
        {
          "output_type": "stream",
          "name": "stdout",
          "text": [
            "\u001b[1m181/181\u001b[0m \u001b[32m━━━━━━━━━━━━━━━━━━━━\u001b[0m\u001b[37m\u001b[0m \u001b[1m0s\u001b[0m 1ms/step\n",
            "Optimal Threshold for Fold 1: 0.66\n",
            "Confusion Matrix for Fold 1:\n",
            "[[3143 2341]\n",
            " [  69  221]]\n",
            "\n",
            "Processing Fold 2...\n",
            "\n",
            "After smoteenn resampling: X shape = (19115, 81), y shape = (19115,)\n"
          ]
        },
        {
          "output_type": "stream",
          "name": "stderr",
          "text": [
            "/usr/local/lib/python3.10/dist-packages/keras/src/layers/core/dense.py:87: UserWarning: Do not pass an `input_shape`/`input_dim` argument to a layer. When using Sequential models, prefer using an `Input(shape)` object as the first layer in the model instead.\n",
            "  super().__init__(activity_regularizer=activity_regularizer, **kwargs)\n"
          ]
        },
        {
          "output_type": "stream",
          "name": "stdout",
          "text": [
            "\u001b[1m181/181\u001b[0m \u001b[32m━━━━━━━━━━━━━━━━━━━━\u001b[0m\u001b[37m\u001b[0m \u001b[1m0s\u001b[0m 1ms/step\n",
            "Optimal Threshold for Fold 2: 0.29\n",
            "Confusion Matrix for Fold 2:\n",
            "[[3784 1700]\n",
            " [ 124  166]]\n",
            "\n",
            "Processing Fold 3...\n",
            "\n",
            "After smoteenn resampling: X shape = (19020, 81), y shape = (19020,)\n"
          ]
        },
        {
          "output_type": "stream",
          "name": "stderr",
          "text": [
            "/usr/local/lib/python3.10/dist-packages/keras/src/layers/core/dense.py:87: UserWarning: Do not pass an `input_shape`/`input_dim` argument to a layer. When using Sequential models, prefer using an `Input(shape)` object as the first layer in the model instead.\n",
            "  super().__init__(activity_regularizer=activity_regularizer, **kwargs)\n"
          ]
        },
        {
          "output_type": "stream",
          "name": "stdout",
          "text": [
            "\u001b[1m181/181\u001b[0m \u001b[32m━━━━━━━━━━━━━━━━━━━━\u001b[0m\u001b[37m\u001b[0m \u001b[1m0s\u001b[0m 1ms/step\n",
            "Optimal Threshold for Fold 3: 0.44\n",
            "Confusion Matrix for Fold 3:\n",
            "[[3358 2125]\n",
            " [  84  206]]\n",
            "\n",
            "\n",
            "Final FNN Metrics for SMOTEENN:\n",
            "F1: 0.16, F2: 0.29\n",
            "Precision: 0.09\n",
            "Recall: 0.68\n",
            "PR AUC: 0.10\n",
            "\n",
            "Evaluating FNN on SMOTETOMEK with best configuration...\n",
            "\n",
            "After smotetomek resampling: X shape = (32832, 81), y shape = (32832,)\n"
          ]
        },
        {
          "output_type": "stream",
          "name": "stderr",
          "text": [
            "/usr/local/lib/python3.10/dist-packages/keras/src/layers/core/dense.py:87: UserWarning: Do not pass an `input_shape`/`input_dim` argument to a layer. When using Sequential models, prefer using an `Input(shape)` object as the first layer in the model instead.\n",
            "  super().__init__(activity_regularizer=activity_regularizer, **kwargs)\n"
          ]
        },
        {
          "output_type": "stream",
          "name": "stdout",
          "text": [
            "\u001b[1m1026/1026\u001b[0m \u001b[32m━━━━━━━━━━━━━━━━━━━━\u001b[0m\u001b[37m\u001b[0m \u001b[1m1s\u001b[0m 1ms/step\n",
            "After smotetomek resampling: X shape = (32832, 81), y shape = (32832,)\n"
          ]
        },
        {
          "output_type": "stream",
          "name": "stderr",
          "text": [
            "/usr/local/lib/python3.10/dist-packages/keras/src/layers/core/dense.py:87: UserWarning: Do not pass an `input_shape`/`input_dim` argument to a layer. When using Sequential models, prefer using an `Input(shape)` object as the first layer in the model instead.\n",
            "  super().__init__(activity_regularizer=activity_regularizer, **kwargs)\n"
          ]
        },
        {
          "output_type": "stream",
          "name": "stdout",
          "text": [
            "\u001b[1m1026/1026\u001b[0m \u001b[32m━━━━━━━━━━━━━━━━━━━━\u001b[0m\u001b[37m\u001b[0m \u001b[1m1s\u001b[0m 1ms/step\n",
            "After smotetomek resampling: X shape = (32832, 81), y shape = (32832,)\n"
          ]
        },
        {
          "output_type": "stream",
          "name": "stderr",
          "text": [
            "/usr/local/lib/python3.10/dist-packages/keras/src/layers/core/dense.py:87: UserWarning: Do not pass an `input_shape`/`input_dim` argument to a layer. When using Sequential models, prefer using an `Input(shape)` object as the first layer in the model instead.\n",
            "  super().__init__(activity_regularizer=activity_regularizer, **kwargs)\n"
          ]
        },
        {
          "output_type": "stream",
          "name": "stdout",
          "text": [
            "\u001b[1m1026/1026\u001b[0m \u001b[32m━━━━━━━━━━━━━━━━━━━━\u001b[0m\u001b[37m\u001b[0m \u001b[1m3s\u001b[0m 3ms/step\n",
            "After smotetomek resampling: X shape = (32832, 81), y shape = (32832,)\n"
          ]
        },
        {
          "output_type": "stream",
          "name": "stderr",
          "text": [
            "/usr/local/lib/python3.10/dist-packages/keras/src/layers/core/dense.py:87: UserWarning: Do not pass an `input_shape`/`input_dim` argument to a layer. When using Sequential models, prefer using an `Input(shape)` object as the first layer in the model instead.\n",
            "  super().__init__(activity_regularizer=activity_regularizer, **kwargs)\n"
          ]
        },
        {
          "output_type": "stream",
          "name": "stdout",
          "text": [
            "\u001b[1m1026/1026\u001b[0m \u001b[32m━━━━━━━━━━━━━━━━━━━━\u001b[0m\u001b[37m\u001b[0m \u001b[1m1s\u001b[0m 1ms/step\n",
            "After smotetomek resampling: X shape = (32832, 81), y shape = (32832,)\n"
          ]
        },
        {
          "output_type": "stream",
          "name": "stderr",
          "text": [
            "/usr/local/lib/python3.10/dist-packages/keras/src/layers/core/dense.py:87: UserWarning: Do not pass an `input_shape`/`input_dim` argument to a layer. When using Sequential models, prefer using an `Input(shape)` object as the first layer in the model instead.\n",
            "  super().__init__(activity_regularizer=activity_regularizer, **kwargs)\n"
          ]
        },
        {
          "output_type": "stream",
          "name": "stdout",
          "text": [
            "\u001b[1m1026/1026\u001b[0m \u001b[32m━━━━━━━━━━━━━━━━━━━━\u001b[0m\u001b[37m\u001b[0m \u001b[1m2s\u001b[0m 2ms/step\n",
            "\n",
            "Best FNN Configuration for SMOTETOMEK: {'optimizer': 'adamax', 'learning_rate': 0.001, 'dropout_rate': 0.5, 'epochs': 50, 'batch_size': 64}\n",
            "Processing Fold 1...\n",
            "\n",
            "After smotetomek resampling: X shape = (21888, 81), y shape = (21888,)\n"
          ]
        },
        {
          "output_type": "stream",
          "name": "stderr",
          "text": [
            "/usr/local/lib/python3.10/dist-packages/keras/src/layers/core/dense.py:87: UserWarning: Do not pass an `input_shape`/`input_dim` argument to a layer. When using Sequential models, prefer using an `Input(shape)` object as the first layer in the model instead.\n",
            "  super().__init__(activity_regularizer=activity_regularizer, **kwargs)\n"
          ]
        },
        {
          "output_type": "stream",
          "name": "stdout",
          "text": [
            "\u001b[1m181/181\u001b[0m \u001b[32m━━━━━━━━━━━━━━━━━━━━\u001b[0m\u001b[37m\u001b[0m \u001b[1m0s\u001b[0m 1ms/step\n",
            "Optimal Threshold for Fold 1: 0.49\n",
            "Confusion Matrix for Fold 1:\n",
            "[[4455 1029]\n",
            " [ 150  140]]\n",
            "\n",
            "Processing Fold 2...\n",
            "\n",
            "After smotetomek resampling: X shape = (21890, 81), y shape = (21890,)\n"
          ]
        },
        {
          "output_type": "stream",
          "name": "stderr",
          "text": [
            "/usr/local/lib/python3.10/dist-packages/keras/src/layers/core/dense.py:87: UserWarning: Do not pass an `input_shape`/`input_dim` argument to a layer. When using Sequential models, prefer using an `Input(shape)` object as the first layer in the model instead.\n",
            "  super().__init__(activity_regularizer=activity_regularizer, **kwargs)\n"
          ]
        },
        {
          "output_type": "stream",
          "name": "stdout",
          "text": [
            "\u001b[1m181/181\u001b[0m \u001b[32m━━━━━━━━━━━━━━━━━━━━\u001b[0m\u001b[37m\u001b[0m \u001b[1m1s\u001b[0m 3ms/step\n",
            "Optimal Threshold for Fold 2: 0.48\n",
            "Confusion Matrix for Fold 2:\n",
            "[[4300 1184]\n",
            " [ 152  138]]\n",
            "\n",
            "Processing Fold 3...\n",
            "\n",
            "After smotetomek resampling: X shape = (21894, 81), y shape = (21894,)\n"
          ]
        },
        {
          "output_type": "stream",
          "name": "stderr",
          "text": [
            "/usr/local/lib/python3.10/dist-packages/keras/src/layers/core/dense.py:87: UserWarning: Do not pass an `input_shape`/`input_dim` argument to a layer. When using Sequential models, prefer using an `Input(shape)` object as the first layer in the model instead.\n",
            "  super().__init__(activity_regularizer=activity_regularizer, **kwargs)\n"
          ]
        },
        {
          "output_type": "stream",
          "name": "stdout",
          "text": [
            "\u001b[1m181/181\u001b[0m \u001b[32m━━━━━━━━━━━━━━━━━━━━\u001b[0m\u001b[37m\u001b[0m \u001b[1m0s\u001b[0m 1ms/step\n",
            "Optimal Threshold for Fold 3: 0.41\n",
            "Confusion Matrix for Fold 3:\n",
            "[[3890 1593]\n",
            " [ 106  184]]\n",
            "\n",
            "\n",
            "Final FNN Metrics for SMOTETOMEK:\n",
            "F1: 0.18, F2: 0.30\n",
            "Precision: 0.11\n",
            "Recall: 0.53\n",
            "PR AUC: 0.12\n",
            "\n",
            "\n",
            "Best Hyperparameters:\n",
            "\n",
            "KNN on SMOTEENN: {'weights': 'uniform', 'n_neighbors': 65, 'metric': 'manhattan', 'leaf_size': 30, 'algorithm': 'kd_tree'}\n",
            "\n",
            "KNN on SMOTETOMEK: {'weights': 'uniform', 'n_neighbors': 65, 'metric': 'manhattan', 'leaf_size': 30, 'algorithm': 'kd_tree'}\n",
            "\n",
            "Logistic_Regression on SMOTEENN: {'tol': 0.0001, 'solver': 'saga', 'penalty': 'elasticnet', 'max_iter': 500, 'l1_ratio': 0.1, 'fit_intercept': True, 'class_weight': 'balanced', 'C': 0.1}\n",
            "\n",
            "Logistic_Regression on SMOTETOMEK: {'tol': 0.0001, 'solver': 'saga', 'penalty': 'elasticnet', 'max_iter': 500, 'l1_ratio': 0.1, 'fit_intercept': True, 'class_weight': 'balanced', 'C': 0.1}\n",
            "\n",
            "Random_Forest on SMOTEENN: {'n_estimators': 100, 'min_samples_split': 10, 'min_samples_leaf': 4, 'max_features': 'log2', 'max_depth': 10, 'criterion': 'gini', 'class_weight': 'balanced', 'bootstrap': True}\n",
            "\n",
            "Random_Forest on SMOTETOMEK: {'n_estimators': 100, 'min_samples_split': 10, 'min_samples_leaf': 4, 'max_features': 'log2', 'max_depth': 10, 'criterion': 'gini', 'class_weight': 'balanced', 'bootstrap': True}\n",
            "\n",
            "FNN on SMOTETOMEK: {'optimizer': 'adamax', 'learning_rate': 0.001, 'dropout_rate': 0.5, 'epochs': 50, 'batch_size': 64}\n",
            "\n",
            "\n",
            "Final Metrics Summary:\n",
            "\n",
            "SMOTEENN Results:\n",
            "\n",
            "KNN:\n",
            "F1: 0.16\n",
            "F2: 0.29\n",
            "Precision: 0.09\n",
            "Recall: 0.67\n",
            "PR AUC: 0.12\n",
            "\n",
            "Logistic_Regression:\n",
            "F1: 0.18\n",
            "F2: 0.31\n",
            "Precision: 0.11\n",
            "Recall: 0.62\n",
            "PR AUC: 0.12\n",
            "\n",
            "Random_Forest:\n",
            "F1: 0.17\n",
            "F2: 0.32\n",
            "Precision: 0.10\n",
            "Recall: 0.71\n",
            "PR AUC: 0.12\n",
            "\n",
            "FNN:\n",
            "F1: 0.16\n",
            "F2: 0.29\n",
            "Precision: 0.09\n",
            "Recall: 0.68\n",
            "PR AUC: 0.10\n",
            "\n",
            "SMOTETOMEK Results:\n",
            "\n",
            "KNN:\n",
            "F1: 0.16\n",
            "F2: 0.29\n",
            "Precision: 0.09\n",
            "Recall: 0.63\n",
            "PR AUC: 0.10\n",
            "\n",
            "Logistic_Regression:\n",
            "F1: 0.17\n",
            "F2: 0.31\n",
            "Precision: 0.10\n",
            "Recall: 0.63\n",
            "PR AUC: 0.12\n",
            "\n",
            "Random_Forest:\n",
            "F1: 0.17\n",
            "F2: 0.31\n",
            "Precision: 0.10\n",
            "Recall: 0.69\n",
            "PR AUC: 0.12\n",
            "\n",
            "FNN:\n",
            "F1: 0.18\n",
            "F2: 0.30\n",
            "Precision: 0.11\n",
            "Recall: 0.53\n",
            "PR AUC: 0.12\n",
            "\n"
          ]
        }
      ],
      "source": [
        "# Optimizer dictionary for easy access\n",
        "optimizers_dict = {\n",
        "    'adam': Adam, 'rmsprop': RMSprop, 'nadam': Nadam,\n",
        "    'adamax': Adamax, 'sgd': SGD\n",
        "}\n",
        "\n",
        "# Build the Feedforward Neural Network model\n",
        "def build_fnn_model(optimizer='adam', dropout_rate=0.5, learning_rate=0.001):\n",
        "    model = Sequential()\n",
        "    model.add(Dense(64, activation='relu', input_shape=(X_train.shape[1],)))\n",
        "    model.add(BatchNormalization())\n",
        "    model.add(Dropout(dropout_rate))\n",
        "    model.add(Dense(1, activation='sigmoid'))\n",
        "\n",
        "    optimizer_instance = optimizers_dict[optimizer](learning_rate=learning_rate)\n",
        "    model.compile(optimizer=optimizer_instance, loss='binary_crossentropy', metrics=['accuracy'])\n",
        "\n",
        "    return model\n",
        "\n",
        "# Random search for best FNN configuration\n",
        "def find_best_fnn_config(X_train, y_train, param_grid, n_iter, dataset_name):\n",
        "    best_score = -np.inf\n",
        "    best_params = None\n",
        "\n",
        "    # Perform a random search over the parameter space\n",
        "    for i in range(n_iter):\n",
        "        # Randomly select hyperparameters\n",
        "        optimizer = random.choice(param_grid['optimizer'])\n",
        "        learning_rate = random.choice(param_grid['learning_rate'])\n",
        "        dropout_rate = random.choice(param_grid['dropout_rate'])\n",
        "        epochs = random.choice(param_grid['epochs'])\n",
        "        batch_size = random.choice(param_grid['batch_size'])\n",
        "\n",
        "        # Apply balancing to the entire training set\n",
        "        X_resampled, y_resampled = apply_balancing(X_train, y_train, method=dataset_name.lower())\n",
        "\n",
        "        # Build and train the model with the current configuration\n",
        "        model = build_fnn_model(optimizer, dropout_rate, learning_rate)\n",
        "        model.fit(X_resampled, y_resampled, epochs=epochs, batch_size=batch_size, verbose=0)\n",
        "\n",
        "        # Evaluate the model on the training set\n",
        "        y_prob = model.predict(X_resampled).flatten()\n",
        "\n",
        "        # Find the optimal threshold for F2 score\n",
        "        optimal_threshold = find_optimal_threshold_for_f2(y_resampled, y_prob)\n",
        "\n",
        "        # Make predictions based on optimized threshold\n",
        "        y_pred = (y_prob >= optimal_threshold).astype(int)\n",
        "        f2 = fbeta_score(y_resampled, y_pred, beta=2)\n",
        "\n",
        "        # Update the best configuration if the current one performs better\n",
        "        if f2 > best_score:\n",
        "            best_score = f2\n",
        "            best_params = {\n",
        "                'optimizer': optimizer,\n",
        "                'learning_rate': learning_rate,\n",
        "                'dropout_rate': dropout_rate,\n",
        "                'epochs': epochs,\n",
        "                'batch_size': batch_size\n",
        "            }\n",
        "\n",
        "    print(f\"\\nBest FNN Configuration for {dataset_name}: {best_params}\")\n",
        "    return best_params\n",
        "\n",
        "# Perform 3-fold cross-validation using the best configuration\n",
        "def evaluate_best_fnn(X_train, y_train, dataset_name):\n",
        "    print(f\"Evaluating FNN on {dataset_name} with best configuration...\\n\")\n",
        "\n",
        "    skf = StratifiedKFold(n_splits=3, shuffle=True, random_state=1244)\n",
        "    fold_metrics = []\n",
        "    all_precision_recall = []  # To store precision-recall pairs for each fold\n",
        "\n",
        "    # Find the best FNN configuration\n",
        "    best_params = find_best_fnn_config(X_train, y_train, fnn_param_grid, 5, dataset_name)\n",
        "\n",
        "    for fold_idx, (train_idx, val_idx) in enumerate(skf.split(X_train, y_train)):\n",
        "        print(f\"Processing Fold {fold_idx + 1}...\\n\")\n",
        "\n",
        "        # Split into training and validation sets\n",
        "        X_fold_train, X_fold_val = X_train[train_idx], X_train[val_idx]\n",
        "        y_fold_train, y_fold_val = y_train[train_idx], y_train[val_idx]\n",
        "\n",
        "        # Apply balancing only on the training fold\n",
        "        X_resampled, y_resampled = apply_balancing(X_fold_train, y_fold_train, method=dataset_name.lower())\n",
        "\n",
        "        # Build and train the model with the best parameters\n",
        "        model = build_fnn_model(\n",
        "            optimizer=best_params['optimizer'],\n",
        "            dropout_rate=best_params['dropout_rate'],\n",
        "            learning_rate=best_params['learning_rate']\n",
        "        )\n",
        "        model.fit(X_resampled, y_resampled, epochs=best_params['epochs'],\n",
        "                  batch_size=best_params['batch_size'], verbose=0)\n",
        "\n",
        "        # Predict probabilities on the validation set\n",
        "        y_prob = model.predict(X_fold_val).flatten()\n",
        "\n",
        "        # Find the optimal threshold for F2 score\n",
        "        optimal_threshold = find_optimal_threshold_for_f2(y_fold_val, y_prob)\n",
        "        print(f\"Optimal Threshold for Fold {fold_idx + 1}: {optimal_threshold:.2f}\")\n",
        "\n",
        "        # Make predictions using the optimized threshold\n",
        "        y_pred = (y_prob >= optimal_threshold).astype(int)\n",
        "\n",
        "        # Print the confusion matrix for this fold\n",
        "        cm = confusion_matrix(y_fold_val, y_pred)\n",
        "        print(f\"Confusion Matrix for Fold {fold_idx + 1}:\\n{cm}\\n\")\n",
        "\n",
        "        # Calculate metrics for the fold\n",
        "        precision, recall, _ = precision_recall_curve(y_fold_val, y_prob)\n",
        "        ap_score = sklearn_auc(recall, precision)\n",
        "        f1 = f1_score(y_fold_val, y_pred)\n",
        "        f2 = fbeta_score(y_fold_val, y_pred, beta=2)\n",
        "        precision_value = precision_score(y_fold_val, y_pred)\n",
        "        recall_value = recall_score(y_fold_val, y_pred)\n",
        "\n",
        "        fold_metrics.append((f1, f2, precision_value, recall_value, ap_score))\n",
        "        all_precision_recall.append((precision, recall))  # Store precision-recall curves\n",
        "\n",
        "    # Aggregate metrics across folds\n",
        "    f1_avg, f2_avg, precision_avg, recall_avg, pr_auc_avg = np.mean(fold_metrics, axis=0)\n",
        "\n",
        "    # Store the results\n",
        "    results[dataset_name]['FNN'] = {\n",
        "        'f1': f1_avg, 'f2': f2_avg,\n",
        "        'precision': precision_avg, 'recall': recall_avg,\n",
        "        'pr_auc': pr_auc_avg\n",
        "    }\n",
        "\n",
        "    # Store the PR curve data (use the final fold's PR curve for visualization)\n",
        "    pr_curves[dataset_name]['FNN'] = {\n",
        "        'precision': all_precision_recall[-1][0],  # Precision from last fold\n",
        "        'recall': all_precision_recall[-1][1],     # Recall from last fold\n",
        "        'pr_auc': pr_auc_avg\n",
        "    }\n",
        "\n",
        "    print(f\"\\nFinal FNN Metrics for {dataset_name}:\\n\"\n",
        "          f\"F1: {f1_avg:.2f}, F2: {f2_avg:.2f}\\n\"\n",
        "          f\"Precision: {precision_avg:.2f}\\nRecall: {recall_avg:.2f}\\n\"\n",
        "          f\"PR AUC: {pr_auc_avg:.2f}\\n\")\n",
        "\n",
        "    # Store the best parameters for FNN\n",
        "    best_params_store['FNN'] = {dataset_name: best_params}\n",
        "\n",
        "# Define parameter grid for FNN\n",
        "fnn_param_grid = {\n",
        "    'optimizer': ['adam', 'rmsprop', 'nadam', 'adamax', 'sgd'],\n",
        "    'learning_rate': [0.001, 0.01, 0.1],\n",
        "    'dropout_rate': [0.2, 0.3, 0.5, 0.7],\n",
        "    'epochs': [10, 20, 30, 50],\n",
        "    'batch_size': [8, 16, 32, 64]\n",
        "}\n",
        "\n",
        "# Evaluate the FNN using 3-fold CV with the best configuration\n",
        "evaluate_best_fnn(X_train, y_train, 'SMOTEENN')\n",
        "evaluate_best_fnn(X_train, y_train, 'SMOTETOMEK')\n",
        "\n",
        "# Print best hyperparameters and metrics summary\n",
        "print(\"\\nBest Hyperparameters:\\n\")\n",
        "for model_name, dataset_params in best_params_store.items():\n",
        "    for dataset, params in dataset_params.items():\n",
        "        print(f\"{model_name} on {dataset}: {params}\\n\")\n",
        "\n",
        "# Print final metrics summary\n",
        "print(\"\\nFinal Metrics Summary:\\n\")\n",
        "for dataset_name, models in results.items():\n",
        "    print(f\"{dataset_name} Results:\\n\")\n",
        "    for model_name, metrics in models.items():\n",
        "        print(f\"{model_name}:\\n\"\n",
        "              f\"F1: {metrics['f1']:.2f}\\n\"\n",
        "              f\"F2: {metrics['f2']:.2f}\\n\"\n",
        "              f\"Precision: {metrics['precision']:.2f}\\n\"\n",
        "              f\"Recall: {metrics['recall']:.2f}\\n\"\n",
        "              f\"PR AUC: {metrics['pr_auc']:.2f}\\n\")"
      ]
    },
    {
      "cell_type": "markdown",
      "source": [
        "9. Plot Precision-Recall Curves for All Models"
      ],
      "metadata": {
        "id": "-PjMs9LYooJ-"
      }
    },
    {
      "cell_type": "code",
      "source": [
        "def plot_stored_pr_curves(pr_curves, dataset_name):\n",
        "    \"\"\"\n",
        "    Plot PR curves for all models using stored precision-recall data.\n",
        "\n",
        "    Args:\n",
        "    - pr_curves (dict): Dictionary containing precision-recall curve data for all datasets and models.\n",
        "    - dataset_name (str): Name of the dataset for which to plot PR curves.\n",
        "\n",
        "    Returns:\n",
        "    - None. Displays the plot with PR curves.\n",
        "    \"\"\"\n",
        "\n",
        "    # Check if the dataset exists in the pr_curves dictionary\n",
        "    if dataset_name not in pr_curves:\n",
        "        print(f\"No PR curves found for dataset: {dataset_name}\")\n",
        "        return  # Exit if the dataset is not found\n",
        "\n",
        "    # Create a new figure for plotting\n",
        "    plt.figure(figsize=(10, 6))\n",
        "\n",
        "    # Iterate over all models in the specified dataset\n",
        "    for model_name, curve_data in pr_curves[dataset_name].items():\n",
        "        try:\n",
        "            # Extract precision, recall, and PR AUC values from the dictionary\n",
        "            precision = curve_data['precision']\n",
        "            recall = curve_data['recall']\n",
        "            pr_auc = curve_data['pr_auc']\n",
        "\n",
        "            # Plot the precision-recall curve for the current model\n",
        "            plt.plot(recall, precision, label=f'{model_name} (AP = {pr_auc:.2f})')\n",
        "\n",
        "        except KeyError as e:\n",
        "            # Handle missing keys in the dictionary and print a warning\n",
        "            print(f\"Missing data for {model_name}: {e}\")\n",
        "\n",
        "    # Set plot labels and title for clarity\n",
        "    plt.xlabel('Recall')\n",
        "    plt.ylabel('Precision')\n",
        "    plt.title(f'Precision-Recall Curves for {dataset_name} Balanced Data')\n",
        "\n",
        "    # Add a legend to distinguish between models\n",
        "    plt.legend(loc='lower right')\n",
        "\n",
        "    # Add a grid to the plot for better readability\n",
        "    plt.grid(True)\n",
        "\n",
        "    # Display the plot\n",
        "    plt.show()\n",
        "\n",
        "# Plot PR curves for the SMOTEENN dataset\n",
        "plot_stored_pr_curves(pr_curves, 'SMOTEENN')\n",
        "plot_stored_pr_curves(pr_curves, 'SMOTETOMEK')"
      ],
      "metadata": {
        "id": "N0t0pl9josWt",
        "colab": {
          "base_uri": "https://localhost:8080/",
          "height": 1000
        },
        "outputId": "7fc6ff5a-b914-43cd-8574-8063d9693a09"
      },
      "execution_count": null,
      "outputs": [
        {
          "output_type": "display_data",
          "data": {
            "text/plain": [
              "<Figure size 1000x600 with 1 Axes>"
            ],
            "image/png": "[encoded data removed]"
          },
          "metadata": {}
        },
        {
          "output_type": "display_data",
          "data": {
            "text/plain": [
              "<Figure size 1000x600 with 1 Axes>"
            ],
            "image/png": "[encoded data removed]"
          },
          "metadata": {}
        }
      ]
    },
    {
      "cell_type": "markdown",
      "metadata": {
        "id": "y4PwX4P4Psbw"
      },
      "source": [
        "10. Saving Final Trained Models"
      ]
    },
    {
      "cell_type": "code",
      "execution_count": null,
      "metadata": {
        "id": "eDC9YxydPujj",
        "colab": {
          "base_uri": "https://localhost:8080/"
        },
        "outputId": "71a895f1-1f64-4263-fb03-9d3bfd42894d"
      },
      "outputs": [
        {
          "output_type": "stream",
          "name": "stdout",
          "text": [
            "Best Random Forest Parameters: {'n_estimators': 100, 'min_samples_split': 10, 'min_samples_leaf': 4, 'max_features': 'log2', 'max_depth': 10, 'criterion': 'gini', 'class_weight': 'balanced', 'bootstrap': True}\n",
            "Training the final Random Forest model with the best parameters on SMOTEENN...\n",
            "Model saved to: /content/drive/MyDrive/IT1244 Project/Models/rf_final_model.pkl\n"
          ]
        }
      ],
      "source": [
        "# Load the best parameters from the `best_params_store`\n",
        "best_rf_params = best_params_store['Random_Forest']['SMOTEENN']\n",
        "print(f\"Best Random Forest Parameters: {best_rf_params}\")\n",
        "\n",
        "# Train the final Random Forest model on the entire SMOTEENN dataset\n",
        "print(\"Training the final Random Forest model with the best parameters on SMOTEENN...\")\n",
        "\n",
        "rf_final_model = RandomForestClassifier(\n",
        "    n_estimators=best_rf_params['n_estimators'],\n",
        "    max_depth=best_rf_params['max_depth'],\n",
        "    min_samples_split=best_rf_params['min_samples_split'],\n",
        "    min_samples_leaf=best_rf_params['min_samples_leaf'],\n",
        "    max_features=best_rf_params['max_features'],\n",
        "    bootstrap=best_rf_params['bootstrap'],\n",
        "    criterion=best_rf_params['criterion'],\n",
        "    class_weight=best_rf_params['class_weight'],\n",
        "    random_state=1244\n",
        ")\n",
        "\n",
        "# Fit the final model using the entire SMOTEENN dataset\n",
        "rf_final_model.fit(X_SMOTEENN, y_SMOTEENN)\n",
        "\n",
        "# Save the trained model to the specified directory\n",
        "joblib.dump(rf_final_model, '/content/drive/MyDrive/IT1244 Project/Models/rf_final_model.pkl')\n",
        "print(\"Model saved to: /content/drive/MyDrive/IT1244 Project/Models/rf_final_model.pkl\")"
      ]
    },
    {
      "cell_type": "markdown",
      "source": [
        "11. Evaluating on Final Trained Model with 20% of Test Data (unseen from model during previous training and evaluation)"
      ],
      "metadata": {
        "id": "WTs6vF5ym9Ka"
      }
    },
    {
      "cell_type": "code",
      "source": [
        "# Evaluate the final model using the X_test and y_test data\n",
        "print(\"\\nEvaluating the final model on the test set...\")\n",
        "\n",
        "# Predict probabilities on the test set\n",
        "y_prob_test = rf_final_model.predict_proba(X_test)[:, 1]  # Get probabilities for the positive class\n",
        "\n",
        "# Find the optimal threshold for F2 score\n",
        "test_optimal_threshold = find_optimal_threshold_for_f2(y_test, y_prob_test)\n",
        "print(f\"Optimal Threshold for Random Forest Classification: {test_optimal_threshold:.2f}\")\n",
        "\n",
        "# Make predictions using the optimized threshold\n",
        "y_pred_test = (y_prob_test >= test_optimal_threshold).astype(int)\n",
        "\n",
        "# Calculate metrics on the test set\n",
        "f1_test = f1_score(y_test, y_pred_test)\n",
        "f2_test = fbeta_score(y_test, y_pred_test, beta=2)\n",
        "precision_test = precision_score(y_test, y_pred_test)\n",
        "recall_test = recall_score(y_test, y_pred_test)\n",
        "accuracy_test = (y_test == y_pred_test).mean()\n",
        "precision_curve, recall_curve, _ = precision_recall_curve(y_test, y_prob_test)\n",
        "pr_auc_test = sklearn_auc(recall_curve, precision_curve)\n",
        "auc_roc_test = roc_auc_score(y_test, y_prob_test)\n",
        "\n",
        "# Confusion Matrix for Test Set\n",
        "cm_test = confusion_matrix(y_test, y_pred_test)\n",
        "print(f\"\\nConfusion Matrix (Test Set):\\n{cm_test}\\n\")\n",
        "\n",
        "# Print the metrics\n",
        "print(f\"\\nTest Set Metrics:\\n\"\n",
        "      f\"Accuracy: {accuracy_test:.2f}\\n\"\n",
        "      f\"F1 Score: {f1_test:.2f}\\n\"\n",
        "      f\"F2 Score: {f2_test:.2f}\\n\"\n",
        "      f\"Precision: {precision_test:.2f}\\n\"\n",
        "      f\"Recall: {recall_test:.2f}\\n\"\n",
        "      f\"PR AUC: {pr_auc_test:.2f}\\n\"\n",
        "      f\"AUC ROC: {auc_roc_test:.2f}\\n\")\n",
        "\n",
        "# Plot the Precision-Recall curve for the test set\n",
        "def plot_pr_curve(precision, recall, pr_auc):\n",
        "    \"\"\"Plot the PR curve with AUC.\"\"\"\n",
        "    plt.figure(figsize=(8, 6))\n",
        "    plt.plot(recall, precision, label=f'PR AUC = {pr_auc:.2f}')\n",
        "    plt.xlabel('Recall')\n",
        "    plt.ylabel('Precision')\n",
        "    plt.title('Precision-Recall Curve (SMOTEENN Test Set)')\n",
        "    plt.legend(loc='lower right')\n",
        "    plt.grid(True)\n",
        "    plt.show()\n",
        "\n",
        "# Plot the ROC curve for the test set\n",
        "def plot_roc_curve(y_true, y_prob):\n",
        "    \"\"\"Plot the ROC curve with AUC.\"\"\"\n",
        "    fpr, tpr, _ = roc_curve(y_true, y_prob)  # Calculate FPR, TPR\n",
        "    roc_auc = sklearn_auc(fpr, tpr)  # Calculate AUC\n",
        "\n",
        "    plt.figure(figsize=(8, 6))\n",
        "    plt.plot(fpr, tpr, label=f'ROC AUC = {roc_auc:.2f}')\n",
        "    plt.plot([0, 1], [0, 1], 'k--')  # Diagonal line for random guessing\n",
        "    plt.xlabel('False Positive Rate')\n",
        "    plt.ylabel('True Positive Rate')\n",
        "    plt.title('ROC Curve (SMOTEENN Test Set)')\n",
        "    plt.legend(loc='lower right')\n",
        "    plt.grid(True)\n",
        "    plt.show()\n",
        "\n",
        "# Plot the PR curve for the test set\n",
        "plot_pr_curve(precision_curve, recall_curve, pr_auc_test)\n",
        "plot_roc_curve(y_test, y_prob_test)"
      ],
      "metadata": {
        "id": "hm-0B3P-nJVO",
        "colab": {
          "base_uri": "https://localhost:8080/",
          "height": 1000
        },
        "outputId": "871a55cc-2c03-46fe-db89-f35c78291c57"
      },
      "execution_count": null,
      "outputs": [
        {
          "output_type": "stream",
          "name": "stdout",
          "text": [
            "\n",
            "Evaluating the final model on the test set...\n",
            "Optimal Threshold for Random Forest Classification: 0.49\n",
            "\n",
            "Confusion Matrix (Test Set):\n",
            "[[3083 1042]\n",
            " [  73  133]]\n",
            "\n",
            "\n",
            "Test Set Metrics:\n",
            "Accuracy: 0.74\n",
            "F1 Score: 0.19\n",
            "F2 Score: 0.33\n",
            "Precision: 0.11\n",
            "Recall: 0.65\n",
            "PR AUC: 0.14\n",
            "AUC ROC: 0.76\n",
            "\n"
          ]
        },
        {
          "output_type": "display_data",
          "data": {
            "text/plain": [
              "<Figure size 800x600 with 1 Axes>"
            ],
            "image/png": "[encoded data removed]"
          },
          "metadata": {}
        },
        {
          "output_type": "display_data",
          "data": {
            "text/plain": [
              "<Figure size 800x600 with 1 Axes>"
            ],
            "image/png": "[encoded data removed]"
          },
          "metadata": {}
        }
      ]
    }
  ],
  "metadata": {
    "colab": {
      "provenance": []
    },
    "kernelspec": {
      "display_name": "Python 3",
      "name": "python3"
    },
    "language_info": {
      "name": "python"
    }
  },
  "nbformat": 4,
  "nbformat_minor": 0
}